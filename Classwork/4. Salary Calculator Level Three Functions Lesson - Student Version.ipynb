{
 "cells": [
  {
   "cell_type": "markdown",
   "id": "20bd7e4b",
   "metadata": {},
   "source": [
    "# Salary Calculator Level Three Functions Lesson\n",
    "\n",
    "We created a Salary Calculator that does the following...\n",
    "\n",
    "1. The calculator should tell the employee how much they made during regular hours and overtime hours. \n",
    "2. The calculator should also calculate how much the employee owe in state income tax of 12.3%.\n",
    "3. The program should control for user behavior. If the user types in a string instead of a digit, the program should prompt the user for the correct input instead of crashing.\n"
   ]
  },
  {
   "cell_type": "code",
   "execution_count": 1,
   "id": "3f12a996",
   "metadata": {
    "deletable": false,
    "editable": false
   },
   "outputs": [
    {
     "name": "stdout",
     "output_type": "stream",
     "text": [
      "How much do you make per hour? 10\n",
      "How many hours did you work this week? 50\n",
      "What is the first name of the employee? alice\n",
      " \n",
      "\n",
      "    \u001b[1mAlice\u001b[0m worked \u001b[1m50.0\u001b[0m hours this week. \n",
      "\n",
      "    The employee made \u001b[1m$400.00\u001b[0m during regular hours and \u001b[1m$150.00\u001b[0m during overtime.\n",
      "\n",
      "    In total, \u001b[1mAlice\u001b[0m made \u001b[1m$550.00\u001b[0m this week and owe \u001b[1m$67.65\u001b[0m in taxes.\n",
      "\n",
      "    \n"
     ]
    }
   ],
   "source": [
    "# In Class Activity Solution #2.1\n",
    "\n",
    "# define variables\n",
    "\n",
    "while True:\n",
    "    try:\n",
    "        hourly_pay = float(input(prompt = \"How much do you make per hour? \"))\n",
    "        break\n",
    "    \n",
    "    except:\n",
    "        print(\"Please type in digits to represent your income: \")\n",
    "\n",
    "while True:\n",
    "    try:\n",
    "        hours_worked = float(input(prompt = \"How many hours did you work this week? \"))\n",
    "        break\n",
    "    \n",
    "    except:\n",
    "        print(\"Please type in digits to represent your hours: \")\n",
    "\n",
    "\n",
    "name          = input(prompt = \"What is the first name of the employee? \")\n",
    "overtime_pay  = 0\n",
    "state_tax     = .123\n",
    "overtime_rate = 1.5\n",
    "regular_hours = 40\n",
    "\n",
    "# shortcuts to bold text\n",
    "bold1 = \"\\033[1m\"\n",
    "bold2 = \"\\033[0m\"\n",
    "\n",
    "# salary calculation\n",
    "\n",
    "if hours_worked > regular_hours:\n",
    "    overtime_hours = hours_worked - regular_hours\n",
    "    overtime_pay   = overtime_hours * hourly_pay * overtime_rate\n",
    "    regular_pay    = hourly_pay * regular_hours\n",
    "    weekly_salary  = regular_pay + overtime_pay\n",
    "    taxes_owed     = weekly_salary * state_tax\n",
    "    \n",
    "    \n",
    "else:\n",
    "    weekly_salary  = hourly_pay * hours_worked\n",
    "    regular_pay    = weekly_salary\n",
    "    taxes_owed     = weekly_salary * state_tax\n",
    "\n",
    "    \n",
    "print(\"\"\" \n",
    "\n",
    "    {}{}{} worked {}{}{} hours this week. \n",
    "\n",
    "    The employee made {}${:,.2f}{} during regular hours and {}${:.2f}{} during overtime.\n",
    "\n",
    "    In total, {}{}{} made {}${:,.2f}{} this week and owe {}${:,.2f}{} in taxes.\n",
    "\n",
    "    \"\"\".format(bold1,\n",
    "               name.title(),\n",
    "               bold2,\n",
    "               bold1,\n",
    "               hours_worked,\n",
    "               bold2,\n",
    "               bold1,\n",
    "               regular_pay,\n",
    "               bold2,\n",
    "               bold1,\n",
    "               overtime_pay,\n",
    "               bold2,\n",
    "               bold1,\n",
    "               name.title(),\n",
    "               bold2,\n",
    "               bold1,\n",
    "               weekly_salary,\n",
    "               bold2,\n",
    "               bold1,\n",
    "               taxes_owed,\n",
    "               bold2))"
   ]
  },
  {
   "cell_type": "markdown",
   "id": "52c45f9a",
   "metadata": {},
   "source": [
    "## How do we incorporate abstraction to make our code easier to manage?\n",
    "\n",
    "For instance, what if we had to use the salary calculator 100 times? \n",
    "\n",
    "How can we avoid typing out this code 100 times?\n",
    "\n",
    "## Create a Function!!!\n",
    "\n",
    "Functions provide a cleaner way to access our code.\n"
   ]
  },
  {
   "cell_type": "code",
   "execution_count": 2,
   "id": "77d7ee16",
   "metadata": {},
   "outputs": [
    {
     "name": "stdout",
     "output_type": "stream",
     "text": [
      "3\n",
      "14\n",
      "-1\n"
     ]
    }
   ],
   "source": [
    "# functions tutorial\n",
    "\n",
    "# creating functions\n",
    "def add(x, y):\n",
    "    total = x + y\n",
    "    return total\n",
    "\n",
    "def subtract(x = 0):\n",
    "    number = x - 1\n",
    "    return number\n",
    "\n",
    "# calling functions  \n",
    "print(add(1, 2))\n",
    "print(subtract(15))\n",
    "print(subtract())\n"
   ]
  },
  {
   "cell_type": "markdown",
   "id": "d6e12c91",
   "metadata": {},
   "source": [
    "### Python Functions\n",
    "\n",
    "- def = reserved word required to create a function\n",
    "- parameters = required variable within a function\n",
    "- arguments = optional variables within a function (They're followed by an equal sign with a default value)\n",
    "- return = reserved word that returns a value within a function\n",
    "\n",
    "**Important: Always include a colon after the def statement.**\n",
    "\n",
    "**Think logically before you start coding. That means outline how your program is going to look before you start coding. Identify important elements of your program beforehand. Anticipate challenges before they begin.**\n"
   ]
  },
  {
   "cell_type": "code",
   "execution_count": 16,
   "id": "bfe4fecb",
   "metadata": {},
   "outputs": [],
   "source": [
    "# Take the next 20-30 minutes to convert the Salary Calculator Level Three into a function\n",
    "\n",
    "'''\n",
    "Info needed:\n",
    "- Hourly rate\n",
    "- Hours worked\n",
    "- Overtime rate\n",
    "- Overtime hours\n",
    "- Tax rate\n",
    "'''\n",
    "\n",
    "'''\n",
    "Outputs:\n",
    "- Name\n",
    "- Hours this week\n",
    "- regular hour earnings\n",
    "- overtime hour earnings\n",
    "- total earnings\n",
    "- taxes owed\n",
    "'''\n",
    "\n",
    "def calc_overtime_hours(hours_worked, regular_hours):\n",
    "    overtime_hours = hours_worked - regular_hours\n",
    "    return overtime_hours\n",
    "\n",
    "def calc_overtime_pay(overtime_hours, hourly_pay, overtime_rate = 1.5):\n",
    "    overtime_pay = overtime_hours * hourly_pay * overtime_rate\n",
    "    return overtime_pay\n",
    "\n",
    "def calc_taxes_owed(weekly_salary, state_tax = .123):\n",
    "    taxes_owed = weekly_salary * state_tax\n",
    "    return taxes_owed\n",
    "\n",
    "def salary_calculator(name, hours_worked, hourly_pay, regular_hours = 40):\n",
    "    if hours_worked > regular_hours:\n",
    "        overtime_hours = calc_overtime_hours(hours_worked, regular_hours)\n",
    "        overtime_pay = calc_overtime_pay(overtime_hours, hourly_pay)\n",
    "        regular_pay = hourly_pay * regular_hours\n",
    "        weekly_salary = regular_pay + overtime_pay\n",
    "        \n",
    "    else:\n",
    "        weekly_salary, regular_pay = hourly_pay * hours_worked\n",
    "        overtime_pay = 0\n",
    "        \n",
    "    taxes_owed = calc_taxes_owed(weekly_salary)\n",
    "    \n",
    "    print(f\"\"\" \n",
    "        {bold1}{name.title()}{bold2} worked {bold1}{hours_worked}{bold2} hours this week. \n",
    "        The employee made {bold1}${regular_pay:,.2f}{bold2} during regular hours and {bold1}${overtime_pay:,.2f}{bold2} during overtime.\n",
    "        In total, {bold1}{name.title()}{bold2} made {bold1}${weekly_salary:,.2f}{bold2} this week and owes {bold1}${taxes_owed:,.2f}{bold2} in taxes.\n",
    "    \"\"\")\n",
    "    \n",
    "    return\n",
    "    "
   ]
  },
  {
   "cell_type": "markdown",
   "id": "9d62b1e0",
   "metadata": {},
   "source": [
    "- I broke the different parts of the main function apart for three reasons\n",
    "    1. Readability\n",
    "    2. To give the salary_calculator function less work to do\n",
    "    3. To provide arguments to the functions that would need them, instead of having to create extra variables/constants that would only be used by those functions anyways\n",
    "\n",
    "- When planning out the functions, I first thought through what info would be needed, which functions would need what, and where that info would get passed into that function from\n",
    "- I also thought about what the functions would return, and how that would be used. Which helped me decide the order of everything."
   ]
  },
  {
   "cell_type": "code",
   "execution_count": 17,
   "id": "2398cfd3",
   "metadata": {},
   "outputs": [
    {
     "name": "stdout",
     "output_type": "stream",
     "text": [
      " \n",
      "        \u001b[1mAlice\u001b[0m worked \u001b[1m50.0\u001b[0m hours this week. \n",
      "        The employee made \u001b[1m$400.00\u001b[0m during regular hours and \u001b[1m$150.00\u001b[0m during overtime.\n",
      "        In total, \u001b[1mAlice\u001b[0m made \u001b[1m$550.00\u001b[0m this week and owes \u001b[1m$67.65\u001b[0m in taxes.\n",
      "    \n"
     ]
    }
   ],
   "source": [
    "# Call the function you just made to find the salary of Grace, Amber and Sam and Juni \n",
    "# shortcuts to bold text\n",
    "bold1 = \"\\033[1m\"\n",
    "bold2 = \"\\033[0m\"\n",
    "\n",
    "# Inputs by the user\n",
    "name = input(prompt = \"What is the first name of the employee? \")\n",
    "\n",
    "while True:\n",
    "    try:\n",
    "        hourly_pay = float(input(prompt = \"How much do you make per hour? \"))\n",
    "        break\n",
    "    except:\n",
    "        print(\"Please type in digits to represent your income: \")\n",
    "\n",
    "while True:\n",
    "    try:\n",
    "        hours_worked = float(input(prompt = \"How many hours did you work this week? \"))\n",
    "        break\n",
    "    except:\n",
    "        print(\"Please type in digits to represent your hours: \")\n",
    "\n",
    "salary_calculator(name, hours_worked, hourly_pay)"
   ]
  },
  {
   "cell_type": "markdown",
   "id": "9fa5d72d",
   "metadata": {},
   "source": [
    "Questions to Consider:\n",
    "\n",
    "1. Do we still need the iterations? Why or why not?\n",
    "2. Do we still need to ask the user for input values? Why or why not?"
   ]
  }
 ],
 "metadata": {
  "kernelspec": {
   "display_name": "Python 3 (ipykernel)",
   "language": "python",
   "name": "python3"
  },
  "language_info": {
   "codemirror_mode": {
    "name": "ipython",
    "version": 3
   },
   "file_extension": ".py",
   "mimetype": "text/x-python",
   "name": "python",
   "nbconvert_exporter": "python",
   "pygments_lexer": "ipython3",
   "version": "3.10.6"
  },
  "toc": {
   "base_numbering": 1,
   "nav_menu": {},
   "number_sections": true,
   "sideBar": true,
   "skip_h1_title": false,
   "title_cell": "Table of Contents",
   "title_sidebar": "Contents",
   "toc_cell": false,
   "toc_position": {},
   "toc_section_display": true,
   "toc_window_display": false
  },
  "varInspector": {
   "cols": {
    "lenName": 16,
    "lenType": 16,
    "lenVar": 40
   },
   "kernels_config": {
    "python": {
     "delete_cmd_postfix": "",
     "delete_cmd_prefix": "del ",
     "library": "var_list.py",
     "varRefreshCmd": "print(var_dic_list())"
    },
    "r": {
     "delete_cmd_postfix": ") ",
     "delete_cmd_prefix": "rm(",
     "library": "var_list.r",
     "varRefreshCmd": "cat(var_dic_list()) "
    }
   },
   "types_to_exclude": [
    "module",
    "function",
    "builtin_function_or_method",
    "instance",
    "_Feature"
   ],
   "window_display": false
  }
 },
 "nbformat": 4,
 "nbformat_minor": 5
}
