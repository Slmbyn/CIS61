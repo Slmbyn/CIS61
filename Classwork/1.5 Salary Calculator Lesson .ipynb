{
 "cells": [
  {
   "cell_type": "markdown",
   "id": "c6a22ecc",
   "metadata": {},
   "source": [
    "# Salary Calculator\n",
    "\n",
    "\n",
    "Instructions: Create a program that calculates the weekly income of hourly employees.\n",
    "\n",
    "We are going to build this program on 3 levels.\n",
    "\n",
    "**Think logically before you start coding.**"
   ]
  },
  {
   "cell_type": "markdown",
   "id": "bce7a455",
   "metadata": {},
   "source": [
    "## Level One\n",
    "\n",
    "- Regular Pay\n",
    "- Regular Hours Worked\n",
    "\n",
    "\n",
    "**Think logically before you start coding. That means outline how your program is going to look before you start coding. Identify important elements of your program beforehand. Anticipate challenges before they begin.**\n",
    "\n",
    "Some Questions to Consider:\n",
    "1. What is needed to calculate a salary?\n",
    "2. Over what time period are we calculating? Day? Week? Month? Year?\n",
    "4. How do we collect the data needed to calculate salary?\n",
    "5. How is salary calculated?\n",
    "6. How is this data represented in Python?"
   ]
  },
  {
   "cell_type": "code",
   "execution_count": 1,
   "id": "c0487ea0",
   "metadata": {},
   "outputs": [],
   "source": [
    "# In Class Activity #1: Take 10-12 minutes to  build a level 1 salary calculator."
   ]
  },
  {
   "cell_type": "code",
   "execution_count": 2,
   "id": "7314a79a",
   "metadata": {
    "code_folding": [],
    "deletable": false,
    "editable": false
   },
   "outputs": [
    {
     "name": "stdout",
     "output_type": "stream",
     "text": [
      " The employee made 756.0 this week.\n"
     ]
    }
   ],
   "source": [
    "# In Class Activity Solution #1.1\n",
    "\n",
    "# define variables\n",
    "regular_pay   = 18.9\n",
    "regular_hours = 40\n",
    "\n",
    "# salary\n",
    "weekly_salary = regular_pay * regular_hours\n",
    "\n",
    "# send results to user\n",
    "print(f\"\"\" The employee made {weekly_salary} this week.\"\"\")"
   ]
  },
  {
   "cell_type": "markdown",
   "id": "c22d58a9",
   "metadata": {},
   "source": [
    "The program we built is okay. \n",
    "\n",
    "What data type is line 4 and 5?\n",
    "\n",
    "**How can we enhance user experience?**\n",
    "\n",
    "1. Ask the user for the hours they worked and their regular pay.\n",
    "2. Build a print statement that adhere to normal monetary punctuation.\n",
    "3. Bold the output.\n",
    "\n",
    "**What other ways can we enhance user experience?**\n",
    "\n",
    "**Shortcut code to bold output**\n",
    "- bold1 = \"\\033[1m\"\n",
    "- bold2 = \"\\033[0m\""
   ]
  },
  {
   "cell_type": "code",
   "execution_count": 1,
   "id": "9bd9d9a3",
   "metadata": {
    "code_folding": [],
    "deletable": false,
    "editable": false
   },
   "outputs": [
    {
     "name": "stdout",
     "output_type": "stream",
     "text": [
      "How much do you make per hour? 20\n",
      "How many hours did you work this week? 30\n",
      " \n",
      " The employee made \u001b[1m$600.00\u001b[0m this week.\n"
     ]
    }
   ],
   "source": [
    "# In Class Activity Solution #1.2\n",
    "\n",
    "# define variables\n",
    "regular_pay   = float(input(prompt = \"How much do you make per hour? \"))\n",
    "regular_hours = float(input(prompt = \"How many hours did you work this week? \"))\n",
    "\n",
    "# shortcuts to bold text\n",
    "bold1 = \"\\033[1m\"\n",
    "bold2 = \"\\033[0m\"\n",
    "\n",
    "# salary calculation\n",
    "weekly_salary = regular_pay * regular_hours\n",
    "\n",
    "# send results to user\n",
    "print(\" \")\n",
    "print(\"\"\" The employee made {}${:.2f}{} this week.\"\"\".format(bold1, weekly_salary, bold2))"
   ]
  },
  {
   "cell_type": "markdown",
   "id": "74aea8b6",
   "metadata": {},
   "source": [
    "**Notice here we're making a lot of assumptions!** \n",
    "\n",
    "Assumption 1: We're assuming that they worked a regular amount of hours. \n",
    "\n",
    "Assumption 2: We're also assuming that they're hourly employees. \n",
    "\n",
    "Assumption 3: We're assuming that users are going to follow instructions and provide digits - not characters - when answering the questions. \n",
    "\n",
    "Later we'll introduce new code to control for such behavior.\n",
    "\n",
    "### Read Documentation!!!\n",
    "\n",
    "Python is a well documented language. Reading the documentation will help you build strong programs.\n",
    "\n",
    "- [Python Built In Functions Documentation](https://docs.python.org/3/library/functions.html)\n",
    "- [Python String/Byte Documentation](https://docs.python.org/3/library/stdtypes.html)\n",
    "- [Python String Methods Resource](https://www.w3schools.com/python/python_ref_string.asp)\n",
    "\n",
    "Questions to Consider:\n",
    "1. Why did I wrap lines 4 and 5 into float wrappers?\n",
    "2. Why did I add the prompt argument in lines 4 and 5?\n",
    "3. Why did I use the dot format notation in Solution 1.2 but not Solution 1.1?\n",
    "4. What operators did I use in Solution 1.2?\n",
    "\n",
    "#### Enhancing User Experience\n",
    "\n",
    "We can enhance user experience by personalizing the experience."
   ]
  },
  {
   "cell_type": "code",
   "execution_count": 4,
   "id": "6fc09751",
   "metadata": {
    "code_folding": [],
    "deletable": false,
    "editable": false
   },
   "outputs": [
    {
     "name": "stdout",
     "output_type": "stream",
     "text": [
      "How much do you make per hour? 20\n",
      "How many hours did you work this week? 30\n",
      "What is the first name of the employee? alice\n",
      " \n",
      "\u001b[1mAlice\u001b[0m made \u001b[1m$600.00\u001b[0m this week.\n"
     ]
    }
   ],
   "source": [
    "# In Class Activity Solution #1.3\n",
    "\n",
    "# define variables\n",
    "regular_pay   = float(input(prompt = \"How much do you make per hour? \"))\n",
    "regular_hours = float(input(prompt = \"How many hours did you work this week? \"))\n",
    "name          = input(prompt = \"What is the first name of the employee? \")\n",
    "\n",
    "# shortcuts to bold text\n",
    "bold1 = \"\\033[1m\"\n",
    "bold2 = \"\\033[0m\"\n",
    "\n",
    "# salary calculation\n",
    "weekly_salary = regular_pay * regular_hours\n",
    "\n",
    "# send results to user\n",
    "print(\" \")\n",
    "print(\"\"\"{}{}{} made {}${:.2f}{} this week.\"\"\".format(bold1,\n",
    "                                                      name.title(),\n",
    "                                                      bold2,\n",
    "                                                      bold1,\n",
    "                                                      weekly_salary, \n",
    "                                                      bold2))"
   ]
  },
  {
   "cell_type": "markdown",
   "id": "c7b74a89",
   "metadata": {},
   "source": [
    "## Level Two\n",
    "\n",
    "Instructions: Build a salary calculator that calculates regular salary and overtime salary for the week based on based on hours worked that week.Overtime pay rate is 1.5.\n",
    "\n",
    "**Think logically before you start coding. That means outline how your program is going to look before you start coding. Identify important elements of your program beforehand. Anticipate challenges before they begin.**\n",
    "\n",
    "Some Questions to Consider:\n",
    "1. What is needed to calculate a regular salary?\n",
    "2. What is needed to calculate an overtime salary?\n",
    "3. How do you determine if the hours worked are regular or overtime?\n",
    "4. What is the overtime rate?\n",
    "5. Over what time period are we calculating? Day? Week? Month? Year?\n",
    "6. How do we collect the data needed to calculate salary?\n",
    "5. How is salary calculated?\n",
    "6. How is this data represented in Python?\n",
    "\n",
    "**What are some other questions we should consider?**\n",
    "\n"
   ]
  },
  {
   "cell_type": "code",
   "execution_count": null,
   "id": "ad5fd455",
   "metadata": {},
   "outputs": [],
   "source": [
    "# In Class Activity #2: Take 15-30 minutes to  build a level 2 salary calculator.\n",
    "\n",
    "# Hint: You need a Conditional"
   ]
  },
  {
   "cell_type": "code",
   "execution_count": 6,
   "id": "b2891c73",
   "metadata": {
    "code_folding": [],
    "deletable": false,
    "editable": false
   },
   "outputs": [
    {
     "name": "stdout",
     "output_type": "stream",
     "text": [
      "How much do you make per hour? 20\n",
      "How many hours did you work this week? 30\n",
      "What is the first name of the employee? alice\n",
      " \n",
      "\n",
      "    \u001b[1mAlice\u001b[0m worked \u001b[1m30.0\u001b[0m hours this week. \n",
      "\n",
      "    The employee made \u001b[1m$600.00\u001b[0m during regular hours and \u001b[1m$0.00\u001b[0m during overtime.\n",
      "\n",
      "    In total, \u001b[1mAlice\u001b[0m made \u001b[1m$600.00\u001b[0m this week.\n",
      "\n",
      "    \n"
     ]
    }
   ],
   "source": [
    "# In Class Activity Solution #2\n",
    "\n",
    "# define variables\n",
    "hourly_pay    = float(input(prompt = \"How much do you make per hour? \"))\n",
    "hours_worked  = float(input(prompt = \"How many hours did you work this week? \"))\n",
    "name          = input(prompt = \"What is the first name of the employee? \")\n",
    "overtime_rate = 1.5 #todo: make a constant\n",
    "regular_hours = 40 #todo: make a constant\n",
    "\n",
    "# shortcuts to bold text\n",
    "bold1 = \"\\033[1m\"\n",
    "bold2 = \"\\033[0m\"\n",
    "\n",
    "# salary calculation\n",
    "\n",
    "if hours_worked > regular_hours:\n",
    "    overtime_hours = hours_worked - regular_hours\n",
    "    overtime_pay   = overtime_hours * hourly_pay * overtime_rate\n",
    "    regular_pay    = hourly_pay * regular_hours\n",
    "    weekly_salary  = regular_pay + overtime_pay\n",
    "    \n",
    "    print(\"\"\" \n",
    "    \n",
    "    {}{}{} worked {}{}{} hours this week. \n",
    "    \n",
    "    The employee made {}${:,.2f}{} during regular hours and {}${:,.2f}{} during overtime.\n",
    "    \n",
    "    In total, she made {}${:,.2f}{} this week.\n",
    "    \n",
    "    \"\"\".format(bold1,\n",
    "               name.title(),\n",
    "               bold2,\n",
    "               bold1,\n",
    "               hours_worked,\n",
    "               bold2,\n",
    "               bold1, \n",
    "               regular_pay, \n",
    "               bold2,\n",
    "               bold1,\n",
    "               overtime_pay,\n",
    "               bold2,\n",
    "               bold1,\n",
    "               weekly_salary,\n",
    "               bold2))\n",
    "    \n",
    "    \n",
    "else:\n",
    "    weekly_salary = hourly_pay * hours_worked\n",
    "    overtime_pay  = 0\n",
    "    \n",
    "    print(\"\"\" \n",
    "\n",
    "    {}{}{} worked {}{}{} hours this week. \n",
    "\n",
    "    The employee made {}${:,.2f}{} during regular hours and {}${:.2f}{} during overtime.\n",
    "\n",
    "    In total, {}{}{} made {}${:,.2f}{} this week.\n",
    "\n",
    "    \"\"\".format(bold1,\n",
    "               name.title(),\n",
    "               bold2,\n",
    "               bold1,\n",
    "               hours_worked,\n",
    "               bold2,\n",
    "               bold1,\n",
    "               weekly_salary,\n",
    "               bold2,\n",
    "               bold1,\n",
    "               overtime_pay,\n",
    "               bold2,\n",
    "               bold1,\n",
    "               name.title(),\n",
    "               bold2,\n",
    "               bold1,\n",
    "               weekly_salary,\n",
    "               bold2))"
   ]
  },
  {
   "cell_type": "markdown",
   "id": "6ecf3cab",
   "metadata": {},
   "source": [
    "# ATTENTION\n",
    "\n",
    "I am violating a key Coding Hygiene principle in the code above. You will get an extra credit quiz grade if you explain which principle I am breaking AND create a program that addresses this issue. Submit your program as a Jupyter Notebook."
   ]
  },
  {
   "cell_type": "markdown",
   "id": "34e169bd",
   "metadata": {},
   "source": [
    "1. not using constants\n",
    "2. repeating code in the print statement (also doesn't need to be in the if/else block)"
   ]
  },
  {
   "cell_type": "code",
   "execution_count": 4,
   "id": "764a0bc8",
   "metadata": {},
   "outputs": [
    {
     "name": "stdout",
     "output_type": "stream",
     "text": [
      " \n",
      "\n",
      "\u001b[1mSelam\u001b[0m worked \u001b[1m55.0\u001b[0m hours this week. \n",
      "\n",
      "The employee made \u001b[1m$1,250.00\u001b[0m during regular hours and \u001b[1m$450.00\u001b[0m during overtime.\n",
      "\n",
      "In total, \u001b[1mSelam\u001b[0m made \u001b[1m$1,250.00\u001b[0m this week.\n",
      "\n",
      "\n"
     ]
    }
   ],
   "source": [
    "# In Class Activity Solution #2\n",
    "\n",
    "# define variables\n",
    "hourly_pay    = float(input(prompt = \"How much do you make per hour? \"))\n",
    "hours_worked  = float(input(prompt = \"How many hours did you work this week? \"))\n",
    "name          = input(prompt = \"What is the first name of the employee? \")\n",
    "OVERTIME_RATE = 1.5 #todo: make a constant\n",
    "REGULAR_HOURS = 40 #todo: make a constant\n",
    "\n",
    "# shortcuts to bold text\n",
    "bold1 = \"\\033[1m\"\n",
    "bold2 = \"\\033[0m\"\n",
    "\n",
    "# salary calculation\n",
    "\n",
    "if hours_worked > REGULAR_HOURS:\n",
    "    overtime_hours = hours_worked - REGULAR_HOURS\n",
    "    overtime_pay   = overtime_hours * hourly_pay * OVERTIME_RATE\n",
    "    regular_pay    = hourly_pay * REGULAR_HOURS\n",
    "    weekly_salary  = regular_pay + overtime_pay\n",
    "else:\n",
    "    weekly_salary = hourly_pay * hours_worked\n",
    "    overtime_pay  = 0\n",
    "\n",
    "# todo: Removed print statment from conditionals\n",
    "print(\"\"\" \n",
    "\n",
    "{}{}{} worked {}{}{} hours this week. \n",
    "\n",
    "The employee made {}${:,.2f}{} during regular hours and {}${:.2f}{} during overtime.\n",
    "\n",
    "In total, {}{}{} made {}${:,.2f}{} this week.\n",
    "\n",
    "\"\"\".format(bold1,\n",
    "            name.title(),\n",
    "            bold2,\n",
    "            bold1,\n",
    "            hours_worked,\n",
    "            bold2,\n",
    "            bold1,\n",
    "            weekly_salary,\n",
    "            bold2,\n",
    "            bold1,\n",
    "            overtime_pay,\n",
    "            bold2,\n",
    "            bold1,\n",
    "            name.title(),\n",
    "            bold2,\n",
    "            bold1,\n",
    "            weekly_salary,\n",
    "            bold2))"
   ]
  },
  {
   "cell_type": "markdown",
   "id": "35bc1b7b",
   "metadata": {},
   "source": [
    "# Program Articulation\n",
    "\n",
    "Explain how this program works using programming terminology. "
   ]
  }
 ],
 "metadata": {
  "kernelspec": {
   "display_name": "Python 3 (ipykernel)",
   "language": "python",
   "name": "python3"
  },
  "language_info": {
   "codemirror_mode": {
    "name": "ipython",
    "version": 3
   },
   "file_extension": ".py",
   "mimetype": "text/x-python",
   "name": "python",
   "nbconvert_exporter": "python",
   "pygments_lexer": "ipython3",
   "version": "3.10.6"
  },
  "toc": {
   "base_numbering": 1,
   "nav_menu": {},
   "number_sections": true,
   "sideBar": true,
   "skip_h1_title": false,
   "title_cell": "Table of Contents",
   "title_sidebar": "Contents",
   "toc_cell": false,
   "toc_position": {},
   "toc_section_display": true,
   "toc_window_display": false
  },
  "varInspector": {
   "cols": {
    "lenName": 16,
    "lenType": 16,
    "lenVar": 40
   },
   "kernels_config": {
    "python": {
     "delete_cmd_postfix": "",
     "delete_cmd_prefix": "del ",
     "library": "var_list.py",
     "varRefreshCmd": "print(var_dic_list())"
    },
    "r": {
     "delete_cmd_postfix": ") ",
     "delete_cmd_prefix": "rm(",
     "library": "var_list.r",
     "varRefreshCmd": "cat(var_dic_list()) "
    }
   },
   "types_to_exclude": [
    "module",
    "function",
    "builtin_function_or_method",
    "instance",
    "_Feature"
   ],
   "window_display": false
  }
 },
 "nbformat": 4,
 "nbformat_minor": 5
}
