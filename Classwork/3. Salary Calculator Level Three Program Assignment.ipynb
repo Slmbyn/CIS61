{
 "cells": [
  {
   "cell_type": "markdown",
   "id": "20bd7e4b",
   "metadata": {},
   "source": [
    "# Salary Calculator Level 3\n",
    "\n",
    "Instructions: Create a salary calculator that calculates salary. \n",
    "\n",
    "1. The calculator should tell the employee how much they made during regular hours and overtime hours. \n",
    "2. The calculator should also calculate how much the employee owe in state income tax of 12.3%.\n",
    "3. The program should control for user behavior. If the user types in a string instead of a digit, the program should prompt the user for the correct input instead of crashing.\n",
    "\n",
    "**Remember to write clean code and enhance user experience. Adhere to coding guidelines covered in class.**\n",
    "\n",
    "- Hint: You will need a conditional and an iteration.\n",
    "- Hint: Watch the video on Try/Except Clauses and Iterations on Canvas\n",
    "- Hint: You do NOT need a function."
   ]
  },
  {
   "cell_type": "code",
   "execution_count": 3,
   "id": "194f78b3",
   "metadata": {},
   "outputs": [
    {
     "name": "stdout",
     "output_type": "stream",
     "text": [
      "Please type in a number\n"
     ]
    },
    {
     "ename": "NameError",
     "evalue": "name 'regular_pay' is not defined",
     "output_type": "error",
     "traceback": [
      "\u001b[0;31m---------------------------------------------------------------------------\u001b[0m",
      "\u001b[0;31mNameError\u001b[0m                                 Traceback (most recent call last)",
      "Cell \u001b[0;32mIn[3], line 19\u001b[0m\n\u001b[1;32m     17\u001b[0m OVERTIME_RATE \u001b[38;5;241m=\u001b[39m \u001b[38;5;241m1.5\u001b[39m\n\u001b[1;32m     18\u001b[0m REGULAR_HOURS \u001b[38;5;241m=\u001b[39m \u001b[38;5;241m40\u001b[39m\n\u001b[0;32m---> 19\u001b[0m REGULAR_WEEKLY_PAY \u001b[38;5;241m=\u001b[39m \u001b[43mregular_pay\u001b[49m \u001b[38;5;241m*\u001b[39m REGULAR_HOURS\n\u001b[1;32m     21\u001b[0m HOURLY_OVERTIME_PAY \u001b[38;5;241m=\u001b[39m regular_pay \u001b[38;5;241m*\u001b[39m OVERTIME_RATE\n\u001b[1;32m     22\u001b[0m OVERTIME_HOURS \u001b[38;5;241m=\u001b[39m hours_worked \u001b[38;5;241m-\u001b[39m REGULAR_HOURS\n",
      "\u001b[0;31mNameError\u001b[0m: name 'regular_pay' is not defined"
     ]
    }
   ],
   "source": [
    "# Formatting shortcuts\n",
    "bold1 = \"\\033[1m\"\n",
    "bold2 = \"\\033[0m\"\n",
    "\n",
    "# Variables\n",
    "# todo: put this inside a while loop\n",
    "try:\n",
    "    regular_pay = float(input(prompt = 'What is your regular hourly pay?'))\n",
    "    hours_worked = float(input(prompt ='How many hours have you worked this week?'))\n",
    "except:\n",
    "    print('Please type in a number')\n",
    "\n",
    "# Constants\n",
    "TAX_RATE = .123\n",
    "OVERTIME_RATE = 1.5\n",
    "REGULAR_HOURS = 40\n",
    "\n",
    "regular_weekly_pay = regular_pay * REGULAR_HOURS\n",
    "gross_weekly_pay = regular_weekly_pay\n",
    "HOURLY_OVERTIME_PAY = regular_pay * OVERTIME_RATE\n",
    "OVERTIME_HOURS = hours_worked - REGULAR_HOURS\n",
    "OVERTIME_PAY = HOURLY_OVERTIME_PAY * OVERTIME_HOURS\n",
    "\n",
    "if hours_worked > REGULAR_HOURS:\n",
    "    gross_weekly_pay = regular_weekly_pay + OVERTIME_PAY\n",
    "\n",
    "taxes_paid = gross_weekly_pay * TAX_RATE\n",
    "net_weekly_pay = gross_weekly_pay - taxes_paid\n",
    "    \n",
    "print(f\"Your total weekly pay is: {bold1}${gross_weekly_pay}0{bold2}\")\n",
    "# reg hour pay\n",
    "print(f\"Your total regular pay is: {bold1}${regular_weekly_pay}0{bold2}\")\n",
    "# ot pay\n",
    "print(f\"Your total overtime pay is: {bold1}${regular_weekly_pay}0{bold2}\")\n",
    "# taxes owed"
   ]
  }
 ],
 "metadata": {
  "kernelspec": {
   "display_name": "Python 3 (ipykernel)",
   "language": "python",
   "name": "python3"
  },
  "language_info": {
   "codemirror_mode": {
    "name": "ipython",
    "version": 3
   },
   "file_extension": ".py",
   "mimetype": "text/x-python",
   "name": "python",
   "nbconvert_exporter": "python",
   "pygments_lexer": "ipython3",
   "version": "3.10.6"
  },
  "toc": {
   "base_numbering": 1,
   "nav_menu": {},
   "number_sections": true,
   "sideBar": true,
   "skip_h1_title": false,
   "title_cell": "Table of Contents",
   "title_sidebar": "Contents",
   "toc_cell": false,
   "toc_position": {},
   "toc_section_display": true,
   "toc_window_display": false
  },
  "varInspector": {
   "cols": {
    "lenName": 16,
    "lenType": 16,
    "lenVar": 40
   },
   "kernels_config": {
    "python": {
     "delete_cmd_postfix": "",
     "delete_cmd_prefix": "del ",
     "library": "var_list.py",
     "varRefreshCmd": "print(var_dic_list())"
    },
    "r": {
     "delete_cmd_postfix": ") ",
     "delete_cmd_prefix": "rm(",
     "library": "var_list.r",
     "varRefreshCmd": "cat(var_dic_list()) "
    }
   },
   "types_to_exclude": [
    "module",
    "function",
    "builtin_function_or_method",
    "instance",
    "_Feature"
   ],
   "window_display": false
  }
 },
 "nbformat": 4,
 "nbformat_minor": 5
}
