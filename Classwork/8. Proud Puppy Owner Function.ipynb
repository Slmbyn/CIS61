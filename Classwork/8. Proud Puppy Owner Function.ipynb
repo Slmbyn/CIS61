{
 "cells": [
  {
   "cell_type": "markdown",
   "id": "60ecdd73",
   "metadata": {},
   "source": [
    "# Proud Puppy Owner Part I\n",
    "\n",
    "\n",
    "Congrats! You are the proud owner of a new puppy! As a HUGE anime fan, you want to instill the love of the best canon anime to your new puppy. You want to name your puppy after a main character from Naruto Shippuden, but you're indecisive. \n",
    "\n",
    "**Create a function that randomly recommends names of main characters from Naruto Shippuden. The function should print a statement that reads \"Why not name your new puppy (name)?\" The name should be bolded.**\n",
    "\n",
    "To help you out, I'm listing some of the main characters from Naruto Shippiden: Naruto, Sasuke, Itachi, Madara, Kakashi, Nagato, Obito, Hinata, Sakura, Minato, Gaara, Orochimaru, Jiraiya, Tsunade, Rock Lee, Hashirama, Kabuto, Hiruzen, Neji, Tenten, Kaguya, Kurenai, Kiba, Konan, Iruka, Anko, Sai, Temari, Mei.\n",
    "\n",
    "Hint 1: Import the random module.\n",
    "\n",
    "Hint 2: [Read the random module documentation](https://docs.python.org/3/library/random.html) \n",
    "\n",
    "Hint 3: Arguments are optional. Parameters are required.\n",
    "\n",
    "Hint 4: Creating a list of names could be extremely useful."
   ]
  },
  {
   "cell_type": "code",
   "execution_count": 5,
   "id": "88c334ff",
   "metadata": {},
   "outputs": [
    {
     "name": "stdout",
     "output_type": "stream",
     "text": [
      "Why not name your new puppy \u001b[1mKurenai\u001b[0m?\n"
     ]
    }
   ],
   "source": [
    "import random\n",
    "\n",
    "bold_open = \"\\033[1m\"\n",
    "bold_close = \"\\033[0m\"\n",
    "\n",
    "names = ['Naruto', 'Sasuke', 'Itachi', 'Madara', 'Kakashi', 'Nagato', 'Obito', 'Hinata', 'Sakura', 'Minato', 'Gaara', 'Orochimaru', 'Jiraiya', 'Tsunade', 'Rock Lee', 'Hashirama', 'Kabuto', 'Hiruzen', 'Neji', 'Tenten', 'Kaguya', 'Kurenai', 'Kiba', 'Konan', 'Iruka', 'Anko', 'Sai', 'Temari', 'Mei']\n",
    "\n",
    "def get_rand_name():\n",
    "    idx = random.randrange(start=len(names))\n",
    "    return names[idx]\n",
    "\n",
    "puppy_name = get_rand_name()\n",
    "\n",
    "print(f\"Why not name your new puppy {bold_open}{puppy_name}{bold_close}?\")\n"
   ]
  },
  {
   "cell_type": "markdown",
   "id": "edd8c544",
   "metadata": {},
   "source": [
    "# Proud Puppy Owner Part II\n",
    "\n",
    "You're still the proud owner of a new puppy! As a huge anime fan, you want to instill the love of the best canon anime to your new puppy. You want to name your puppy after a main character from Naruto Shippuden, but you want recommendations for girl names and boy names for your new puppy. \n",
    "\n",
    "**Create a function that randomly recommends names of main characters from Naruto Shippuden based on whether or not the puppy is a girl or a boy. The function should print a statement that reads \"Why not name your new puppy (name)?\" The name should be bolded. The name provided should be based on whether or not the puppy is a boy or a girl. If the user puts in an answer that does not make sense, tell the user, \"That's not a recognized gender. Please try again.\"**\n",
    "\n",
    "To make your life easier, here are names of female characters: Hinata, Sakura, Tenten, Tsunade, Temari, Konan, Ino, Kurenai, Kaguya, Mei, Kushina, Shizune, Anko, Karin, Chiyo, Yugito, Rin, Mito, Karui\n",
    "\n",
    "And here are names of male characters: Naruto, Sasuke, Itachi, Madara, Kakashi, Nagato, Obito, Gaara, Orochimaru, Jiraiya, Rock Lee, Hashirama, Kabuto, Hiruzen, Neji, Kurenai, Kiba, Konan, Iruka, Sai, Minato\n",
    "\n",
    "Hint 1: Read the hints provided above.\n",
    "\n",
    "Hint 2: You will need a parameter."
   ]
  },
  {
   "cell_type": "code",
   "execution_count": 6,
   "id": "3e6a8adb",
   "metadata": {},
   "outputs": [
    {
     "name": "stdout",
     "output_type": "stream",
     "text": [
      "Why not name your new puppy \u001b[1mNaruto\u001b[0m?\n"
     ]
    }
   ],
   "source": [
    "import random\n",
    "\n",
    "# styling\n",
    "bold_open = \"\\033[1m\"\n",
    "bold_close = \"\\033[0m\"\n",
    "\n",
    "# variables\n",
    "girl_names = [\"Hinata\", \"Sakura\", \"Tenten\", \"Tsunade\", \"Temari\",\"Konan\",\"Ino\", \"Kurenai\", \"Kaguya\", \"Mei\",\"Kushina\",\"Shizune\", \"Anko\", \"Karin\", \"Chiyo\",\"Yugito\", \"Rin\", \"Mito\", \"Karui\"]\n",
    "boy_names = [\"Naruto\", \"Sasuke\", \"Itachi\", \"Madara\", \"Kakashi\",\"Nagato\", \"Obito\", \"Gaara\", \"Orochimaru\", \"Jiraiya\",\"Rock Lee\", \"Hashirama\", \"Kabuto\", \"Hiruzen\", \"Neji\",\"Kiba\", \"Iruka\", \"Sai\", \"Minato\"]\n",
    "\n",
    "# get user input with validation check\n",
    "while True:\n",
    "    try:\n",
    "        gender = input('Is your puppy a boy or a girl?').strip().lower()\n",
    "        if gender == 'boy' or gender == 'girl':\n",
    "            break\n",
    "    except ValueError:\n",
    "        print(\"That's not a recognized gender. Please try again. ('boy'/'girl')\")\n",
    "\n",
    "# function with a parameter\n",
    "def get_rand_name(puppy_gender):\n",
    "    if puppy_gender == 'boy':\n",
    "        name = random.choice(boy_names)\n",
    "    else:\n",
    "        name = random.choice(girl_names)\n",
    "    return name\n",
    "\n",
    "# function call\n",
    "puppy_name = get_rand_name(gender)\n",
    "\n",
    "print(f\"Why not name your new puppy {bold_open}{puppy_name}{bold_close}?\")\n"
   ]
  },
  {
   "cell_type": "markdown",
   "id": "7cb1b8e2",
   "metadata": {},
   "source": [
    "# Proud Puppy Owner Part III\n",
    "\n",
    "You're still the proud owner of a new puppy! As a huge anime fan, you want to instill the love of the best canon anime to your new puppy. You want to name your puppy after a main character from Naruto Shippuden.\n",
    "\n",
    "**There are more male characters than female characters in Naruto Shippuden. Create a function that randomly recommends names of main characters from Naruto Shippuden based on whether or not the puppy is a girl or a boy BUT the function defaults to a boy name if a gender is not specified. The function should print a statement that reads \"Why not name your new puppy (name)?\" The name should be bolded. The name provided should be based on whether or not the puppy is a boy or a girl if a gender is specified. If the user puts in an answer that does not make sense, tell the user, \"That's not a recognized gender. Please try again.\"**\n",
    "\n",
    "To make your life easier, here are names of female characters: Hinata, Sakura, Tenten, Tsunade, Temari, Konan, Ino, Kurenai, Kaguya, Mei, Kushina, Shizune, Anko, Karin, Chiyo, Yugito, Rin, Mito, Karui\n",
    "\n",
    "And here are names of male characters: Naruto, Sasuke, Itachi, Madara, Kakashi, Nagato, Obito, Gaara, Orochimaru, Jiraiya, Rock Lee, Hashirama, Kabuto, Hiruzen, Neji, Kurenai, Kiba, Konan, Iruka, Sai, Minato\n",
    "\n",
    "Hint 1: Read the hints provided above.\n",
    "\n",
    "Hint 2: You will need an argument."
   ]
  },
  {
   "cell_type": "code",
   "execution_count": null,
   "id": "47e3dc77",
   "metadata": {},
   "outputs": [],
   "source": [
    "import random\n",
    "\n",
    "# styling\n",
    "bold_open = \"\\033[1m\"\n",
    "bold_close = \"\\033[0m\"\n",
    "\n",
    "# variables\n",
    "girl_names = [\"Hinata\", \"Sakura\", \"Tenten\", \"Tsunade\", \"Temari\",\"Konan\",\"Ino\", \"Kurenai\", \"Kaguya\", \"Mei\",\"Kushina\",\"Shizune\", \"Anko\", \"Karin\", \"Chiyo\",\"Yugito\", \"Rin\", \"Mito\", \"Karui\"]\n",
    "boy_names = [\"Naruto\", \"Sasuke\", \"Itachi\", \"Madara\", \"Kakashi\",\"Nagato\", \"Obito\", \"Gaara\", \"Orochimaru\", \"Jiraiya\",\"Rock Lee\", \"Hashirama\", \"Kabuto\", \"Hiruzen\", \"Neji\",\"Kiba\", \"Iruka\", \"Sai\", \"Minato\"]\n",
    "\n",
    "# get user input with validation check\n",
    "while True:\n",
    "    try:\n",
    "        gender = input('Is your puppy a boy or a girl?').strip().lower()\n",
    "        if gender == 'boy' or gender == 'girl':\n",
    "            break\n",
    "    except ValueError:\n",
    "        print(\"That's not a recognized gender. Please try again. ('boy'/'girl')\")\n",
    "\n",
    "# function with an argument\n",
    "def get_rand_name(puppy_gender = 'boy'):\n",
    "    if puppy_gender == 'boy':\n",
    "        name = random.choice(boy_names)\n",
    "    else:\n",
    "        name = random.choice(girl_names)\n",
    "    return name\n",
    "\n",
    "# function call\n",
    "puppy_name = get_rand_name(gender)\n",
    "\n",
    "print(f\"Why not name your new puppy {bold_open}{puppy_name}{bold_close}?\")"
   ]
  }
 ],
 "metadata": {
  "kernelspec": {
   "display_name": "Python 3 (ipykernel)",
   "language": "python",
   "name": "python3"
  },
  "language_info": {
   "codemirror_mode": {
    "name": "ipython",
    "version": 3
   },
   "file_extension": ".py",
   "mimetype": "text/x-python",
   "name": "python",
   "nbconvert_exporter": "python",
   "pygments_lexer": "ipython3",
   "version": "3.10.6"
  },
  "toc": {
   "base_numbering": 1,
   "nav_menu": {},
   "number_sections": true,
   "sideBar": true,
   "skip_h1_title": false,
   "title_cell": "Table of Contents",
   "title_sidebar": "Contents",
   "toc_cell": false,
   "toc_position": {},
   "toc_section_display": true,
   "toc_window_display": false
  },
  "varInspector": {
   "cols": {
    "lenName": 16,
    "lenType": 16,
    "lenVar": 40
   },
   "kernels_config": {
    "python": {
     "delete_cmd_postfix": "",
     "delete_cmd_prefix": "del ",
     "library": "var_list.py",
     "varRefreshCmd": "print(var_dic_list())"
    },
    "r": {
     "delete_cmd_postfix": ") ",
     "delete_cmd_prefix": "rm(",
     "library": "var_list.r",
     "varRefreshCmd": "cat(var_dic_list()) "
    }
   },
   "types_to_exclude": [
    "module",
    "function",
    "builtin_function_or_method",
    "instance",
    "_Feature"
   ],
   "window_display": false
  }
 },
 "nbformat": 4,
 "nbformat_minor": 5
}
