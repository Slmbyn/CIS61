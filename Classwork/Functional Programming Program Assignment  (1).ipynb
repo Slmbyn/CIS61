{
 "cells": [
  {
   "cell_type": "markdown",
   "id": "126d1935",
   "metadata": {},
   "source": [
    "# Functional Programming Program Assignment \n",
    "\n",
    "Instructions:\n",
    "\n",
    "Create a new data set that contains names and ages of the anime data set.\n",
    "\n",
    "\n",
    "Hints:\n",
    "1. Use the anime data set we did together in class.\n",
    "2. Do NOT import date time module. Just subtract from 2023. It's easier.\n",
    "3. Use immutable data types.\n",
    "4. DO NOT use list comprehension. Lists are mutable. Yes, it is more Pythonic but we're learning Functional Programming.\n",
    "5. [Read Map Documentation](https://docs.python.org/3/library/functions.html#map)\n",
    "\n",
    "\n",
    "Answer the following questions in Markdown.\n",
    "1. Explain using PROGRAMMING LOGIC AND TERMINOLOGY how the program works.\n"
   ]
  },
  {
   "cell_type": "code",
   "execution_count": 3,
   "id": "620f59dd",
   "metadata": {},
   "outputs": [
    {
     "name": "stdout",
     "output_type": "stream",
     "text": [
      "(('Naruto Shippuden', 16), ('YuYu Hakusho', 31), ('Dragon Ball Z', 34), ('Full Metal Alchemist: The Brotherhood', 14), ('Bleach', 19), ('Death Note', 17))\n"
     ]
    }
   ],
   "source": [
    "from collections import namedtuple\n",
    "\n",
    "Anime = namedtuple(\"Anime\", [\"title\", \"streaming\", \"year\", \"female_protagonist\"])\n",
    "\n",
    "anime = (\n",
    "Anime(\"Naruto Shippuden\", \"Crunchy Roll\", 2007, True),\n",
    "Anime(\"YuYu Hakusho\", \"Funimation\", 1992, False),\n",
    "Anime(\"Dragon Ball Z\", \"Amazon Prime\", 1989, False),\n",
    "Anime(\"Full Metal Alchemist: The Brotherhood\", \"Netflix\", 2009, True),\n",
    "Anime(\"Bleach\", \"Netflix\", 2004, True),\n",
    "Anime(\"Death Note\", \"Netflix\", 2006, False),\n",
    "\n",
    ")\n",
    "\n",
    "# use the map function to do a count controlled loop\n",
    "# on each iteration we apply a lambda function to it, that returns the name and age of the character\n",
    "# then that info is stored in a tuple to keep it immutable.\n",
    "print(tuple(map(lambda anime : (anime.title, 2023 - anime.year), anime)))"
   ]
  }
 ],
 "metadata": {
  "kernelspec": {
   "display_name": "Python 3 (ipykernel)",
   "language": "python",
   "name": "python3"
  },
  "language_info": {
   "codemirror_mode": {
    "name": "ipython",
    "version": 3
   },
   "file_extension": ".py",
   "mimetype": "text/x-python",
   "name": "python",
   "nbconvert_exporter": "python",
   "pygments_lexer": "ipython3",
   "version": "3.10.6"
  },
  "toc": {
   "base_numbering": 1,
   "nav_menu": {},
   "number_sections": true,
   "sideBar": true,
   "skip_h1_title": false,
   "title_cell": "Table of Contents",
   "title_sidebar": "Contents",
   "toc_cell": false,
   "toc_position": {},
   "toc_section_display": true,
   "toc_window_display": false
  },
  "varInspector": {
   "cols": {
    "lenName": 16,
    "lenType": 16,
    "lenVar": 40
   },
   "kernels_config": {
    "python": {
     "delete_cmd_postfix": "",
     "delete_cmd_prefix": "del ",
     "library": "var_list.py",
     "varRefreshCmd": "print(var_dic_list())"
    },
    "r": {
     "delete_cmd_postfix": ") ",
     "delete_cmd_prefix": "rm(",
     "library": "var_list.r",
     "varRefreshCmd": "cat(var_dic_list()) "
    }
   },
   "types_to_exclude": [
    "module",
    "function",
    "builtin_function_or_method",
    "instance",
    "_Feature"
   ],
   "window_display": false
  }
 },
 "nbformat": 4,
 "nbformat_minor": 5
}
