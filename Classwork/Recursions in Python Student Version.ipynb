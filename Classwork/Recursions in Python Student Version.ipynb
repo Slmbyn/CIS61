{
 "cells": [
  {
   "cell_type": "markdown",
   "id": "053c971b",
   "metadata": {},
   "source": [
    "# Recursions in Python\n",
    "\n",
    "We are going to practice using recursions in Python.\n",
    "\n",
    "**Question 1: What is Functional Programming?**\n",
    "\n",
    "A programming paradigm that uses special functions to always give the same output given the same input\n",
    "\n",
    "**Question 2: What is a pure function?**\n",
    "\n",
    "The output will always be the same given the\n",
    "same input\n",
    "\n",
    "**Question 3: What is an example of a pure function in Python?**"
   ]
  },
  {
   "cell_type": "code",
   "execution_count": 11,
   "id": "e3bc77b8",
   "metadata": {
    "code_folding": []
   },
   "outputs": [],
   "source": [
    "# Question 3 answer here\n",
    "def pure_function(x):\n",
    "    return x + 1"
   ]
  },
  {
   "cell_type": "code",
   "execution_count": 12,
   "id": "66140937",
   "metadata": {},
   "outputs": [
    {
     "name": "stdout",
     "output_type": "stream",
     "text": [
      "5\n"
     ]
    }
   ],
   "source": [
    "# call the pure function you created above\n",
    "print(pure_function(4))\n"
   ]
  },
  {
   "cell_type": "markdown",
   "id": "443b367b",
   "metadata": {},
   "source": [
    "**Question 4: How is Functional Programming different from Object-Oriented Programming?**\n",
    "\n",
    "Object-Oriented programming is more focused on using objects created by classes and encapsulating functions within it. In functional programming you prefer to organize the code into functions that avoid mutability\n",
    "\n",
    "\n",
    "**Question 5: Functions are First Class Citizens. What does that mean?**\n",
    "\n",
    "can be assigned to variables, they can be passed into other functions as arguments, can be returned by other functions\n",
    "\n",
    "**Question 6: What are the characteristics of Functional Programming? Hint: There are 5.**\n",
    "\n",
    "1. pure functions\n",
    "2. immutable data\n",
    "3. higher-order functions\n",
    "4. recursions\n",
    "5. function composition\n",
    "\n",
    "**Question 7: There are no iterations in Functional Programming. Why?**\n",
    "\n",
    "Becuase everything must be immutable\n",
    "\n",
    "**Question 8: What is a recursion?**\n",
    "\n",
    "Calling a function from within itself\n",
    "\n",
    "**Question 9: Name two non-tech examples of recursions?**\n",
    "\n",
    "1. inception movie\n",
    "2.\n",
    "\n",
    "**Question 10: What is a recursive algorithm?**\n",
    "\n",
    "A process of calling the same function within itself until you get down to the simplest form\n",
    "\n",
    "**Question 11: What are the two parts of a recursion?**\n",
    "\n",
    "1. base case\n",
    "2. recursive calls\n",
    "\n",
    "**Question 12: Why is a base case important?**\n",
    "\n",
    "it is used to break out of the recursive calls"
   ]
  },
  {
   "cell_type": "markdown",
   "id": "bd33bc51",
   "metadata": {},
   "source": [
    "## Factorials Explanation\n",
    "\n",
    "A **factorial** calculates the product of all positive integers less than or equal to a given positive integer. It is presented by the symbol \"!\".\n",
    "\n",
    "For example\n",
    "For example, the factorial of 5, denoted as \"5!\", is calculated as:\n",
    "\n",
    "5! = 5 x 4 x 3 x 2 x 1\n",
    "\n",
    "5! = 120\n",
    "\n",
    "**Factorials Represented in Math**\n",
    "\n",
    "n! = n×(n−1)×(n−2)"
   ]
  },
  {
   "cell_type": "code",
   "execution_count": 13,
   "id": "aeff2654",
   "metadata": {},
   "outputs": [
    {
     "data": {
      "text/plain": [
       "120"
      ]
     },
     "execution_count": 13,
     "metadata": {},
     "output_type": "execute_result"
    }
   ],
   "source": [
    "# factorial example\n",
    "five_factorial = 5 * 4 * 3 * 2 * 1\n",
    "\n",
    "# calling the factorial\n",
    "five_factorial"
   ]
  },
  {
   "cell_type": "markdown",
   "id": "8559d8fb",
   "metadata": {},
   "source": [
    "## Factorials Program Part I\n",
    "\n",
    "Create a function to create a factorial **using an iteration.**\n",
    "\n",
    "**For this version, DO NOT USE A RECURSION. Recursions come in Part II. I'm trying to teach you how to think here.**\n",
    "\n",
    "Hint 1: You need an iteration. Remember the types of iterations and what they're used for. Look at the slides.\n",
    "\n",
    "Hint 2: You need one parameter. Call it \"n\" for the sake of simplicity. Really you can call it whatever you want, but someone reading this may overthink it so call it \"n\" if it makes things easier.\n",
    "\n",
    "Hint 3: The factorial of 0 is 1. The factorial of 1 is 1.\n",
    "\n",
    "Hint 4: Identify the base case (look at Hint 4).\n",
    "\n",
    "Hint 5: Look at the factorial example above. Try explaining the logic of that code using programming logic.\n",
    "\n",
    "Hint 6: Read the range documentation. It can be useful. [Range Python Documentation](https://docs.python.org/3/library/functions.html#func-range)\n",
    "\n",
    "Hint 7: It is relatively straightforward once you get your thoughts organized. Don't overthink it."
   ]
  },
  {
   "cell_type": "code",
   "execution_count": 14,
   "id": "c84b8fb5",
   "metadata": {},
   "outputs": [
    {
     "name": "stdout",
     "output_type": "stream",
     "text": [
      "120\n"
     ]
    }
   ],
   "source": [
    "# type code here\n",
    "\n",
    "from functools import reduce\n",
    "\n",
    "def factorial_iteration(n):\n",
    "    if n < 2:\n",
    "        return 1\n",
    "    sequence = list(range(1,n+1))\n",
    "    fib = reduce(lambda x,y: x*y, sequence)\n",
    "    return fib\n",
    "    \n",
    "\n",
    "print(factorial_iteration(5))"
   ]
  },
  {
   "cell_type": "code",
   "execution_count": 15,
   "id": "4e47fdc1",
   "metadata": {},
   "outputs": [
    {
     "name": "stdout",
     "output_type": "stream",
     "text": [
      "1\n",
      "1\n",
      "120\n"
     ]
    }
   ],
   "source": [
    "# call the function\n",
    "print(factorial_iteration(0))\n",
    "print(factorial_iteration(1))\n",
    "print(factorial_iteration(5))"
   ]
  },
  {
   "cell_type": "markdown",
   "id": "d9ea3a46",
   "metadata": {},
   "source": [
    "## Factorials Program Part II \n",
    "\n",
    "Create a function to create a factorial **using a recursion.**\n",
    "\n",
    "Hint 1: Remind yourself what a recursion is. Say it out loud if necessary.\n",
    "\n",
    "Hint 2: Remind yourself the parts of a recursion. Scroll up if you forgot.\n",
    "\n",
    "Hint 3: The factorial of 0 is 1. The factorial of 1 is 1.\n",
    "\n",
    "Hint 4: Explain the logic behind the recursion and convert that to programming logic.\n",
    "\n",
    "Hint 5: Look at the logic you just did with the iteration. Convert that to a recursion.\n",
    "\n",
    "Hint 6: A conditional could be helpful.\n",
    "\n",
    "Hint 7: You need one parameter. Call it \"n\" for the sake of simplicity. Really you can call it whatever you want, but someone reading this may overthink it so call it \"n\" if it makes things easier.\n",
    "\n",
    "Hint 8: A comparison operator could be very helpful."
   ]
  },
  {
   "cell_type": "code",
   "execution_count": 56,
   "id": "45110a92",
   "metadata": {},
   "outputs": [],
   "source": [
    "fib = {}\n",
    "def factorial_recursion(n):\n",
    "    if n <= 1:\n",
    "        return n\n",
    "    if n in fib:\n",
    "        return fib[n]\n",
    "    fib[n] = n * factorial_recursion(n-1)\n",
    "    return fib[n]"
   ]
  },
  {
   "cell_type": "code",
   "execution_count": 57,
   "id": "fca91f57",
   "metadata": {},
   "outputs": [
    {
     "name": "stdout",
     "output_type": "stream",
     "text": [
      "0\n",
      "1\n",
      "120\n"
     ]
    }
   ],
   "source": [
    "# call the factorial recursion function\n",
    "print(factorial_recursion(0))\n",
    "print(factorial_recursion(1))\n",
    "print(factorial_recursion(5))"
   ]
  },
  {
   "cell_type": "markdown",
   "id": "5352eb2a",
   "metadata": {},
   "source": [
    "**Question 13: What is the base call of your factorial recursive function?**\n",
    "    if n < 2:\n",
    "        return 1\n",
    "\n",
    "**Question 14: What is the recursive call of your factorial recursive function?**\n",
    "\n",
    "*Answer Here*"
   ]
  },
  {
   "cell_type": "markdown",
   "id": "7c7cc77f",
   "metadata": {},
   "source": [
    "## Fibonacci Explanation\n",
    "\n",
    "A Fibonacci sequence is a series of numbers in which each number is the sum of the two preceding ones.\n",
    "\n",
    "**Fibonacci sequence example - first 10**\n",
    "\n",
    "0, 1, 1, 2, 3, 5, 8, 13, 21, 34\n",
    "\n",
    "Broken Down\n",
    "\n",
    "0  + 1  = 1\n",
    "\n",
    "1  + 1  = 2\n",
    "\n",
    "1  + 2  = 3\n",
    "\n",
    "2  + 3  = 5\n",
    "\n",
    "3  + 5  = 8\n",
    "\n",
    "5  + 8  = 13\n",
    "\n",
    "8  + 13 = 21\n",
    "\n",
    "13 + 21 = 34\n",
    "\n",
    "**Fibonacci Sequence in Mathematical Terms**\n",
    "\n",
    "F(0) = 0, F(1) = 1\n",
    "\n",
    "F(n) = F(n−1) + F(n−2)\n",
    "\n",
    "**Substitute the numbers broken down into this formula to see how it makes sense.**"
   ]
  },
  {
   "cell_type": "markdown",
   "id": "fcc4f15f",
   "metadata": {},
   "source": [
    "## Fibonacci Program Part I\n",
    "\n",
    "Create a function to create a Fibonacci **using an iteration.** Your function should return a list of a Fibonacci sequence based on a provided number. \n",
    "\n",
    "For example, the Fibonacci sequence for 5 is 0, 1, 1, 2, 3, 5.\n",
    "\n",
    "**For this version, DO NOT USE A RECURSION. Recursions come in Part II. I'm trying to teach you how to think here.**\n",
    "\n",
    "Hint 1: You need one parameter. Call it \"n\" for the sake of simplicity. Really you can call it whatever you want, but someone reading this may overthink it so call it \"n\" if it makes things easier.\n",
    "\n",
    "Hint 2: Look at the Fibonacci Sequence in Mathematical terms. Translate that to programming logic.\n",
    "\n",
    "Hint 3: The Fibonacci sequence is for non-negative numbers. If you have a negative number, then return that value.\n",
    "\n",
    "Hint 4: The Fibonacci sequence starts with 0 and 1. The start of the sequence has been provided as a list.\n",
    "\n",
    "Hint 5: Identify the base case and recursive call.\n",
    "\n",
    "Hint 6: A conditional could be helpful.\n",
    "\n",
    "Hint 7: Remember the types of iterations and when to use them. (Look at the slides.)\n",
    "\n",
    "Hint 8: Read the range documentation. It can be useful. [Range Python Documentation](https://docs.python.org/3/library/functions.html#func-range)\n",
    "\n",
    "Hint 9: Read list documentation. You will need the append method specifically. [List Python Documentation](https://docs.python.org/3/library/stdtypes.html#sequence-types-list-tuple-range)\n",
    "\n",
    "Hint 10: Remember Python indexes at 0, not 1."
   ]
  },
  {
   "cell_type": "code",
   "execution_count": 6,
   "id": "e9c8242f",
   "metadata": {},
   "outputs": [],
   "source": [
    "# type code here for fibonacci iteration\n",
    "def fibonacci_iteration(n):\n",
    "    \n",
    "    # the start of the sequence \n",
    "    sequence = [0, 1]"
   ]
  },
  {
   "cell_type": "code",
   "execution_count": 7,
   "id": "94d151b4",
   "metadata": {},
   "outputs": [
    {
     "name": "stdout",
     "output_type": "stream",
     "text": [
      "None\n",
      "None\n",
      "None\n",
      "None\n",
      "None\n"
     ]
    }
   ],
   "source": [
    "# call fibonacci_iteration function\n",
    "print(fibonacci_iteration(-1))\n",
    "print(fibonacci_iteration(0))\n",
    "print(fibonacci_iteration(1))\n",
    "print(fibonacci_iteration(5))\n",
    "print(fibonacci_iteration(6))"
   ]
  },
  {
   "cell_type": "markdown",
   "id": "77b7534f",
   "metadata": {},
   "source": [
    "## Fibonacci Program Part II\n",
    "\n",
    "Create a function to create a Fibonacci **using an recursion.** Your function should return a list of a Fibonacci sequence based on a provided number. \n",
    "\n",
    "For example, the first 5 digits in the Fibonacci sequence is 0, 1, 1, 2, 3.\n",
    "\n",
    "Hint 1: Remind yourself what a recursion is. Say it out loud if necessary.\n",
    "\n",
    "Hint 2: Remind yourself the parts of a recursion. Scroll up if you forgot.\n",
    "\n",
    "Hint 3: A conditional and an iteration could be helpful.\n",
    "\n",
    "Hint 4: Explain the logic behind the Fibonacci and convert that to programming logic.\n",
    "\n",
    "Hint 5: Look at the logic you just did with the iteration. Convert that to a recursion.\n",
    "\n",
    "Hint 6: The Fibonacci sequence is for non-negative numbers. If you have a negative number, then return that value.\n",
    "\n",
    "Hint 7: You need one parameter. Call it \"n\" for the sake of simplicity. Really you can call it whatever you want, but someone reading this may overthink it so call it \"n\" if it makes things easier.\n",
    "\n",
    "Hint 8: Remember the types of iterations and when to use them. (Look at the slides.)\n",
    "\n",
    "Hint 9: Read the range documentation. It can be useful. [Range Python Documentation](https://docs.python.org/3/library/functions.html#func-range)\n",
    "\n",
    "Hint 10: Read list documentation. You will need the append method specifically. [List Python Documentation](https://docs.python.org/3/library/stdtypes.html#sequence-types-list-tuple-range)\n",
    "\n",
    "Hint 11: Remember Python indexes at 0, not 1."
   ]
  },
  {
   "cell_type": "code",
   "execution_count": 8,
   "id": "44255ab2",
   "metadata": {},
   "outputs": [],
   "source": [
    "# code your function here\n",
    "def fibonacci_recursion():\n",
    "    pass"
   ]
  },
  {
   "cell_type": "code",
   "execution_count": null,
   "id": "79a3d588",
   "metadata": {},
   "outputs": [],
   "source": [
    "# check results\n",
    "print(fibonacci_recursion(-2))\n",
    "print(fibonacci_recursion(0))\n",
    "print(fibonacci_recursion(1))\n",
    "print(fibonacci_recursion(2))\n",
    "print(fibonacci_recursion(5))\n",
    "print(fibonacci_recursion(7))"
   ]
  },
  {
   "cell_type": "markdown",
   "id": "0e26786f",
   "metadata": {},
   "source": [
    "**Question 15: What is the base call of your recursive Fibonacci function?**\n",
    "\n",
    "*Answer Here*\n",
    "\n",
    "**Question 16: What is the recursive call of your recursive Fibonacci function?**\n",
    "\n",
    "*Answer Here*"
   ]
  }
 ],
 "metadata": {
  "kernelspec": {
   "display_name": "Python 3 (ipykernel)",
   "language": "python",
   "name": "python3"
  },
  "language_info": {
   "codemirror_mode": {
    "name": "ipython",
    "version": 3
   },
   "file_extension": ".py",
   "mimetype": "text/x-python",
   "name": "python",
   "nbconvert_exporter": "python",
   "pygments_lexer": "ipython3",
   "version": "3.10.6"
  },
  "toc": {
   "base_numbering": 1,
   "nav_menu": {},
   "number_sections": true,
   "sideBar": true,
   "skip_h1_title": false,
   "title_cell": "Table of Contents",
   "title_sidebar": "Contents",
   "toc_cell": false,
   "toc_position": {},
   "toc_section_display": true,
   "toc_window_display": false
  },
  "varInspector": {
   "cols": {
    "lenName": 16,
    "lenType": 16,
    "lenVar": 40
   },
   "kernels_config": {
    "python": {
     "delete_cmd_postfix": "",
     "delete_cmd_prefix": "del ",
     "library": "var_list.py",
     "varRefreshCmd": "print(var_dic_list())"
    },
    "r": {
     "delete_cmd_postfix": ") ",
     "delete_cmd_prefix": "rm(",
     "library": "var_list.r",
     "varRefreshCmd": "cat(var_dic_list()) "
    }
   },
   "types_to_exclude": [
    "module",
    "function",
    "builtin_function_or_method",
    "instance",
    "_Feature"
   ],
   "window_display": false
  }
 },
 "nbformat": 4,
 "nbformat_minor": 5
}
