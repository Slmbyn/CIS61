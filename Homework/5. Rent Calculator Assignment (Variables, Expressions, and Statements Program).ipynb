{
 "cells": [
  {
   "cell_type": "markdown",
   "id": "8f9da386",
   "metadata": {
    "deletable": false,
    "editable": false
   },
   "source": [
    "# Rent Calculator (Variables, Expressions, and Statements Program)\n",
    "\n",
    "Instructions\n",
    "\n",
    "A good rule of thumb is to keep rent and/or mortgage payments 30% or less of your income (before taxes). We are well aware that living in the Bay Area, that is a tough sell. \n",
    "\n",
    "Write a program that calculates the maximum an individual can afford based on their income and communicates those results to the user.\n",
    "\n",
    "Hint: The user output should read like this\n",
    "\"Since you make (insert how much the user makes each month) each month, to keep your rent at 30% of your income or less, \n",
    "look for an apartment that is (insert how much their rent should be) or less.\"\n",
    "\n",
    "**The code you write should be clean and well-commented. It should adhere to coding hygiene. Remember to optimize the user experience. In this case you can enhance user experience by making sure the output reads in customary currency format. In addition, do some research to figure out how you can bold the user output so that the amount that they make is bolded and the budget for their rent is also bolded.** \n"
   ]
  },
  {
   "cell_type": "code",
   "execution_count": 5,
   "id": "2e5e9e2f",
   "metadata": {},
   "outputs": [
    {
     "name": "stdout",
     "output_type": "stream",
     "text": [
      "Since you make \u001b[1m$2040.00\u001b[0m each month, to keep your rent at 30% of your income or less, look for an apartment that is \u001b[1m$612.00\u001b[0m or less.\n"
     ]
    }
   ],
   "source": [
    "bold_open = \"\\033[1m\"\n",
    "bold_close = \"\\033[0m\"\n",
    "\n",
    "# input field to get users hourly pay\n",
    "hourly_pay = float(input('What is your hourly wage?'))\n",
    "# input for amount of regular hours\n",
    "weekly_hours_worked = float(input('How many hours do you work per week?'))\n",
    "# calculate their monthly income\n",
    "monthly_income = hourly_pay * (weekly_hours_worked * 4)\n",
    "# calculate 30% of their monthly income\n",
    "max_rent = monthly_income * .30\n",
    "# print statement\n",
    "print(f\"Since you make {bold_open}${monthly_income:.2f}{bold_close} each month, to keep your rent at 30% of your income or less, look for an apartment that is {bold_open}${max_rent:.2f}{bold_close} or less.\")"
   ]
  }
 ],
 "metadata": {
  "kernelspec": {
   "display_name": "Python 3 (ipykernel)",
   "language": "python",
   "name": "python3"
  },
  "language_info": {
   "codemirror_mode": {
    "name": "ipython",
    "version": 3
   },
   "file_extension": ".py",
   "mimetype": "text/x-python",
   "name": "python",
   "nbconvert_exporter": "python",
   "pygments_lexer": "ipython3",
   "version": "3.10.6"
  },
  "toc": {
   "base_numbering": 1,
   "nav_menu": {},
   "number_sections": true,
   "sideBar": true,
   "skip_h1_title": false,
   "title_cell": "Table of Contents",
   "title_sidebar": "Contents",
   "toc_cell": false,
   "toc_position": {},
   "toc_section_display": true,
   "toc_window_display": false
  },
  "varInspector": {
   "cols": {
    "lenName": 16,
    "lenType": 16,
    "lenVar": 40
   },
   "kernels_config": {
    "python": {
     "delete_cmd_postfix": "",
     "delete_cmd_prefix": "del ",
     "library": "var_list.py",
     "varRefreshCmd": "print(var_dic_list())"
    },
    "r": {
     "delete_cmd_postfix": ") ",
     "delete_cmd_prefix": "rm(",
     "library": "var_list.r",
     "varRefreshCmd": "cat(var_dic_list()) "
    }
   },
   "types_to_exclude": [
    "module",
    "function",
    "builtin_function_or_method",
    "instance",
    "_Feature"
   ],
   "window_display": false
  }
 },
 "nbformat": 4,
 "nbformat_minor": 5
}
