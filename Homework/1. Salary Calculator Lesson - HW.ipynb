{
 "cells": [
  {
   "cell_type": "markdown",
   "id": "dc5bb90b",
   "metadata": {},
   "source": [
    "# Salary Calculator\n",
    "\n",
    "\n",
    "Instructions: Create a program that calculates the weekly income of hourly employees.\n",
    "\n",
    "We are going to build this program on 3 levels.\n",
    "\n",
    "**Think logically before you start coding. It's important to understand why you are doing what you are doing - not just coding blindly. Create a strategy for yourself before you start coding.**"
   ]
  },
  {
   "cell_type": "markdown",
   "id": "bb758099",
   "metadata": {},
   "source": [
    "## Level One\n",
    "\n",
    "- Regular Pay\n",
    "- Regular Hours Worked\n",
    "\n",
    "\n",
    "**Think logically before you start coding. That means outline how your program is going to look before you start coding. Identify important elements of your program beforehand. Anticipate challenges before they begin.**\n",
    "\n",
    "Hint 1: You do **NOT** need to create a function to complete this level.\n",
    "\n",
    "Hint 2: The employee makes $18.90 per hour and works full time.\n",
    "\n",
    "Some Questions to Consider:\n",
    "1. What is needed to calculate a salary?\n",
    "2. Over what time period are we calculating? Day? Week? Month? Year?\n",
    "4. How do we collect the data needed to calculate salary?\n",
    "5. How is salary calculated?\n",
    "6. How is this data represented in Python?"
   ]
  },
  {
   "cell_type": "code",
   "execution_count": 9,
   "id": "c3ec36cd",
   "metadata": {},
   "outputs": [
    {
     "name": "stdout",
     "output_type": "stream",
     "text": [
      "Your weekly pay is: $756.00\n"
     ]
    }
   ],
   "source": [
    "# In Class Activity #1.1: Take 15-20 minutes to  build a level 1 salary calculator.\n",
    "\n",
    "hours_worked = 40\n",
    "hourly_pay = 18.9\n",
    "weekly_pay = hourly_pay * hours_worked\n",
    "\n",
    "print(f\"Your weekly pay is: ${weekly_pay}0\")"
   ]
  },
  {
   "cell_type": "markdown",
   "id": "962e4009",
   "metadata": {},
   "source": [
    "**How can we enhance user experience?**\n",
    "\n",
    "1. Ask the user for the hours they worked and their regular pay.\n",
    "2. Build a print statement that adhere to normal monetary punctuation.\n",
    "3. Bold the output.\n",
    "\n",
    "Hint 3: Read documentation for the input function: https://docs.python.org/3/library/functions.html#input\n",
    "\n",
    "**What other ways can we enhance user experience? Insert your answers here.**\n",
    "\n",
    "1. \n",
    "2. \n",
    "3. \n",
    "\n",
    "**Shortcut code to bold output**\n",
    "- bold1 = \"\\033[1m\"\n",
    "- bold2 = \"\\033[0m\""
   ]
  },
  {
   "cell_type": "code",
   "execution_count": 3,
   "id": "a1699b01",
   "metadata": {},
   "outputs": [
    {
     "name": "stdout",
     "output_type": "stream",
     "text": [
      "Your weekly pay is: \u001b[1m$2120.00\u001b[0m\n"
     ]
    }
   ],
   "source": [
    "# In Class Activity #1.2: Take 15-20 minutes to improve your program based on enhancements mentioned above.\n",
    "bold1 = \"\\033[1m\"\n",
    "bold2 = \"\\033[0m\"\n",
    "\n",
    "regular_pay = float(input(prompt = 'What is your regular pay?'))\n",
    "hours_worked = float(input(prompt ='How many hours have you worked this week?'))\n",
    "weekly_pay = regular_pay * hours_worked\n",
    "\n",
    "print(f\"Your weekly pay is: {bold1}${weekly_pay}0{bold2}\")"
   ]
  },
  {
   "cell_type": "markdown",
   "id": "8b9aa7c0",
   "metadata": {},
   "source": [
    "**Notice here we're making a lot of assumptions!** \n",
    "\n",
    "Assumption 1: We're assuming that they worked a regular amount of hours. \n",
    "\n",
    "Assumption 2: We're also assuming that they're hourly employees. \n",
    "\n",
    "Assumption 3: We're assuming that users are going to follow instructions and provide digits - not characters - when answering the questions. \n",
    "\n",
    "Later we'll introduce new code to control for such behavior.\n",
    "\n",
    "### Read Documentation!!!\n",
    "\n",
    "Python is a well documented language. Reading the documentation will help you build strong programs.\n",
    "\n",
    "- [Python Built In Functions Documentation](https://docs.python.org/3/library/functions.html)\n",
    "- [Python String/Byte Documentation](https://docs.python.org/3/library/stdtypes.html)\n",
    "- [Python String Methods Resource](https://www.w3schools.com/python/python_ref_string.asp)\n",
    "\n",
    "Questions to Consider:\n",
    "1. Why did I wrap lines 4 and 5 into float wrappers?\n",
    "2. Why did I add the prompt argument in lines 4 and 5?\n",
    "3. Why did I use the dot format notation in Solution 1.2 but not Solution 1.1?\n",
    "4. What operators did I use in Solution 1.2?\n",
    "\n",
    "#### Enhancing User Experience\n",
    "\n",
    "We can enhance user experience by personalizing the experience."
   ]
  },
  {
   "cell_type": "code",
   "execution_count": 3,
   "id": "6879d50e",
   "metadata": {},
   "outputs": [],
   "source": [
    "# In Class Activity #1.3: Take 15-20 minutes to improve your program.\n",
    "\n",
    "# Variables\n",
    "regular_pay = float(input(prompt = 'What is your regular pay?'))\n",
    "hours_worked = float(input(prompt ='How many hours have you worked this week?'))\n",
    "\n",
    "bold1 = \"\\033[1m\"\n",
    "bold2 = \"\\033[0m\"\n",
    "\n",
    "weekly_pay = regular_pay * hours_worked\n",
    "\n",
    "print(f\"Your weekly pay is: {bold1}${weekly_pay}0{bold2}\")"
   ]
  },
  {
   "cell_type": "markdown",
   "id": "499f033c",
   "metadata": {},
   "source": [
    "## Level Two\n",
    "\n",
    "Instructions: Build a salary calculator that calculates regular salary and overtime salary for the week based on based on hours worked that week.Overtime pay rate is 1.5.\n",
    "\n",
    "**Think logically before you start coding. That means outline how your program is going to look before you start coding. Identify important elements of your program beforehand. Anticipate challenges before they begin.**\n",
    "\n",
    "Some Questions to Consider:\n",
    "1. What is needed to calculate a regular salary?\n",
    "2. What is needed to calculate an overtime salary?\n",
    "3. How do you determine if the hours worked are regular or overtime?\n",
    "4. What is the overtime rate?\n",
    "5. Over what time period are we calculating? Day? Week? Month? Year?\n",
    "6. How do we collect the data needed to calculate salary?\n",
    "5. How is salary calculated?\n",
    "6. How is this data represented in Python?\n",
    "\n",
    "**What are some other questions we should consider? Insert them below.**\n",
    "\n",
    "1. \n",
    "2. \n",
    "3. \n",
    "4. \n",
    "5. "
   ]
  },
  {
   "cell_type": "code",
   "execution_count": 1,
   "id": "a0d3d36f",
   "metadata": {},
   "outputs": [
    {
     "ename": "ValueError",
     "evalue": "could not convert string to float: 'ALKDJF'",
     "output_type": "error",
     "traceback": [
      "\u001b[0;31m---------------------------------------------------------------------------\u001b[0m",
      "\u001b[0;31mValueError\u001b[0m                                Traceback (most recent call last)",
      "Cell \u001b[0;32mIn[1], line 9\u001b[0m\n\u001b[1;32m      6\u001b[0m bold2 \u001b[38;5;241m=\u001b[39m \u001b[38;5;124m\"\u001b[39m\u001b[38;5;130;01m\\033\u001b[39;00m\u001b[38;5;124m[0m\u001b[39m\u001b[38;5;124m\"\u001b[39m\n\u001b[1;32m      8\u001b[0m \u001b[38;5;66;03m# Variables\u001b[39;00m\n\u001b[0;32m----> 9\u001b[0m regular_pay \u001b[38;5;241m=\u001b[39m \u001b[38;5;28;43mfloat\u001b[39;49m\u001b[43m(\u001b[49m\u001b[38;5;28;43minput\u001b[39;49m\u001b[43m(\u001b[49m\u001b[43mprompt\u001b[49m\u001b[43m \u001b[49m\u001b[38;5;241;43m=\u001b[39;49m\u001b[43m \u001b[49m\u001b[38;5;124;43m'\u001b[39;49m\u001b[38;5;124;43mWhat is your regular hourly pay?\u001b[39;49m\u001b[38;5;124;43m'\u001b[39;49m\u001b[43m)\u001b[49m\u001b[43m)\u001b[49m\n\u001b[1;32m     10\u001b[0m hours_worked \u001b[38;5;241m=\u001b[39m \u001b[38;5;28mfloat\u001b[39m(\u001b[38;5;28minput\u001b[39m(prompt \u001b[38;5;241m=\u001b[39m\u001b[38;5;124m'\u001b[39m\u001b[38;5;124mHow many hours have you worked this week?\u001b[39m\u001b[38;5;124m'\u001b[39m))\n\u001b[1;32m     12\u001b[0m \u001b[38;5;66;03m# Constants\u001b[39;00m\n",
      "\u001b[0;31mValueError\u001b[0m: could not convert string to float: 'ALKDJF'"
     ]
    }
   ],
   "source": [
    "# In Class Activity #2: Take 20-30 minutes to  build a level 2 salary calculator.\n",
    "# Hint: You need a Conditional\n",
    "\n",
    "# Formatting shortcuts\n",
    "bold1 = \"\\033[1m\"\n",
    "bold2 = \"\\033[0m\"\n",
    "\n",
    "# Variables\n",
    "regular_pay = float(input(prompt = 'What is your regular hourly pay?'))\n",
    "hours_worked = float(input(prompt ='How many hours have you worked this week?'))\n",
    "\n",
    "# Constants\n",
    "OVERTIME_RATE = 1.5\n",
    "HOURLY_OVERTIME_PAY = regular_pay * OVERTIME_RATE\n",
    "REGULAR_HOURS = 40\n",
    "OVERTIME_HOURS = hours_worked - REGULAR_HOURS\n",
    "\n",
    "\n",
    "if OVERTIME_HOURS > 0:\n",
    "    weekly_pay = (regular_pay * hours_worked) + (HOURLY_OVERTIME_PAY * OVERTIME_HOURS)\n",
    "    \n",
    "weekly_pay = regular_pay * hours_worked\n",
    "print(f\"Your weekly pay is: {bold1}${weekly_pay}0{bold2}\")\n"
   ]
  },
  {
   "cell_type": "markdown",
   "id": "05ba6a0d",
   "metadata": {},
   "source": [
    "# Program Articulation\n",
    "\n",
    "Explain how this program works using programming terminology. "
   ]
  }
 ],
 "metadata": {
  "kernelspec": {
   "display_name": "Python 3 (ipykernel)",
   "language": "python",
   "name": "python3"
  },
  "language_info": {
   "codemirror_mode": {
    "name": "ipython",
    "version": 3
   },
   "file_extension": ".py",
   "mimetype": "text/x-python",
   "name": "python",
   "nbconvert_exporter": "python",
   "pygments_lexer": "ipython3",
   "version": "3.10.6"
  },
  "toc": {
   "base_numbering": 1,
   "nav_menu": {},
   "number_sections": true,
   "sideBar": true,
   "skip_h1_title": false,
   "title_cell": "Table of Contents",
   "title_sidebar": "Contents",
   "toc_cell": false,
   "toc_position": {},
   "toc_section_display": true,
   "toc_window_display": false
  },
  "varInspector": {
   "cols": {
    "lenName": 16,
    "lenType": 16,
    "lenVar": 40
   },
   "kernels_config": {
    "python": {
     "delete_cmd_postfix": "",
     "delete_cmd_prefix": "del ",
     "library": "var_list.py",
     "varRefreshCmd": "print(var_dic_list())"
    },
    "r": {
     "delete_cmd_postfix": ") ",
     "delete_cmd_prefix": "rm(",
     "library": "var_list.r",
     "varRefreshCmd": "cat(var_dic_list()) "
    }
   },
   "types_to_exclude": [
    "module",
    "function",
    "builtin_function_or_method",
    "instance",
    "_Feature"
   ],
   "window_display": false
  }
 },
 "nbformat": 4,
 "nbformat_minor": 5
}
