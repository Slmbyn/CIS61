{
 "cells": [
  {
   "cell_type": "markdown",
   "metadata": {},
   "source": [
    "# Selam Beyene Debrief\n",
    "\n",
    "Selam is an aspiring software engineer with a degree in Finance from SJSU. He is also a day-trader. He was born and raised in Oakland and is a die hard Warriors fan.\n",
    "\n",
    "- Birthday: November 23\n",
    "- Zodiac Sign: Sagittarius\n",
    "- Favorite Anime: Dragon Ball Z\n",
    "- Favorite Dessert: Cinnamon Rolls (pretty much anything with cinnamon)\n",
    "- Favorite Song Artist: Lauryn Hill\n",
    "- Dream Job: A day-trader who has built a program to automate the job"
   ]
  },
  {
   "cell_type": "markdown",
   "metadata": {},
   "source": [
    "# The Underrated Queen\n",
    "\n",
    "[**Lauryn Hill - Killing Me Softly (Live @ Dave Chappelle's Block Party)**](https://www.youtube.com/watch?v=gllzfmAPcSw)"
   ]
  },
  {
   "cell_type": "markdown",
   "metadata": {},
   "source": [
    "# The Classic Anime\n",
    "\n",
    "![Goku](https://images.alphacoders.com/647/647552.jpg)\n"
   ]
  },
  {
   "cell_type": "markdown",
   "metadata": {},
   "source": [
    "# My Bookshelf\n",
    "\n",
    "1. The Alchemist by Paulo Coelho\n",
    "2. Born a Crime by Trevor Noah\n",
    "3. Reminiscences of a Stock Operator by Edwin Lefevre\n",
    "4. The Upstarts by Brad Stone\n",
    "5. The Sixth Man by Andre Iguodala"
   ]
  }
 ],
 "metadata": {
  "language_info": {
   "name": "python"
  }
 },
 "nbformat": 4,
 "nbformat_minor": 2
}
