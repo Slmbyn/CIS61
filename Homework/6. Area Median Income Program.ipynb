{
 "cells": [
  {
   "cell_type": "markdown",
   "id": "f0abea63",
   "metadata": {},
   "source": [
    "# Area Median Income Program\n",
    "\n",
    "**Background Information**\n",
    "\n",
    "Read the following article for more context and information about affordable housing in the Bay Area: https://oaklandside.org/affordable-housing-guide/#how-do-i-know-if-i-qualify-for-affordable-housing%22\n",
    "\n",
    "Read the following chart to learn more about income limits for affordable housing:https://cao-94612.s3.amazonaws.com/documents/2023-City-of-Oakland-Income-Limits-effective-June-6-2023.pdf\n",
    "\n",
    "To make the process easier, I interpreted the chart for you:\n",
    "- Extremely Low Income is anything less than 31,050 USD\n",
    "- Very Low Income is greater than 31,050 USD and less than or equal to 51,800 USD\n",
    "- Low Income is greater than 51,800 USD and less than or equal to 78,550 USD\n",
    "- Median Income is greater than 78,550 USD and less than or equal to 103,550 USD\n",
    "- Moderate Income is greater than 103,550 USD and less than or equal to 124,250 USD\n",
    "- Above Moderate Income is anything greater than 124,250 USD\n",
    "\n",
    "**Instructions**\n",
    "\n",
    "\n",
    "Write a program that determines where a user falls in relation to the Alameda County Area Median Income scale for the following conditions:\n",
    "- 1 person household\n",
    "- 2 person household\n",
    "- 4 person household\n",
    "\n",
    "In addition to determining where a user falls in relation to the Alameda County AMI, the program needs to tell the user their category. Categories include:\n",
    "- Moderate Income (120% or lower)\n",
    "- Area Median Income (100% or lower)\n",
    "- Low Income (80% or lower)\n",
    "- Very Low Income (50% or lower)\n",
    "- Extremely Low Income (30% or lower)\n",
    "\n",
    "Enhance user experience by doing the following:\n",
    "1. Asking the user for their name at the beginning of the program.\n",
    "2. Ask the user if they want more info about how to qualify for affordable housing.\n",
    "\n",
    "If the user says yes, then the program should say \"The federal government determines the 'area median income,' or AMI, for the region, including Oakland and Berkeley. When apartments become available, you are given the maximum and sometimes the minimum  amount of income you can earn to qualify to live there.\"\n",
    "\n",
    "If the user says no, then the program should say \"That's okay. You can always visit this site to learn more later: https://oaklandside.org/affordable-housing-guide/#how-do-i-know-if-i-qualify-for-affordable-housing\".\n",
    "\n",
    "3. Ask the user their household income.\n",
    "4. Summarize the data provided by the user.\n",
    "\n",
    "**Remember to look at the slides on coding hygiene.**"
   ]
  }
 ],
 "metadata": {
  "kernelspec": {
   "display_name": "Python 3 (ipykernel)",
   "language": "python",
   "name": "python3"
  },
  "language_info": {
   "codemirror_mode": {
    "name": "ipython",
    "version": 3
   },
   "file_extension": ".py",
   "mimetype": "text/x-python",
   "name": "python",
   "nbconvert_exporter": "python",
   "pygments_lexer": "ipython3",
   "version": "3.9.12"
  },
  "toc": {
   "base_numbering": 1,
   "nav_menu": {},
   "number_sections": true,
   "sideBar": true,
   "skip_h1_title": false,
   "title_cell": "Table of Contents",
   "title_sidebar": "Contents",
   "toc_cell": false,
   "toc_position": {},
   "toc_section_display": true,
   "toc_window_display": false
  },
  "varInspector": {
   "cols": {
    "lenName": 16,
    "lenType": 16,
    "lenVar": 40
   },
   "kernels_config": {
    "python": {
     "delete_cmd_postfix": "",
     "delete_cmd_prefix": "del ",
     "library": "var_list.py",
     "varRefreshCmd": "print(var_dic_list())"
    },
    "r": {
     "delete_cmd_postfix": ") ",
     "delete_cmd_prefix": "rm(",
     "library": "var_list.r",
     "varRefreshCmd": "cat(var_dic_list()) "
    }
   },
   "types_to_exclude": [
    "module",
    "function",
    "builtin_function_or_method",
    "instance",
    "_Feature"
   ],
   "window_display": false
  }
 },
 "nbformat": 4,
 "nbformat_minor": 5
}
