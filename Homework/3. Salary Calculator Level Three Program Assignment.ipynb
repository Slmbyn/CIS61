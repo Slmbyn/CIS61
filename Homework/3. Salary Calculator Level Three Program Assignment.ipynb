{
 "cells": [
  {
   "cell_type": "markdown",
   "id": "20bd7e4b",
   "metadata": {},
   "source": [
    "# Salary Calculator Level 3\n",
    "\n",
    "Instructions: Create a salary calculator that calculates salary. \n",
    "\n",
    "1. The calculator should tell the employee how much they made during regular hours and overtime hours. \n",
    "2. The calculator should also calculate how much the employee owe in state income tax of 12.3%.\n",
    "3. The program should control for user behavior. If the user types in a string instead of a digit, the program should prompt the user for the correct input instead of crashing.\n",
    "\n",
    "**Remember to write clean code and enhance user experience. Adhere to coding guidelines covered in class.**\n",
    "\n",
    "- Hint: You will need a conditional and an iteration.\n",
    "- Hint: Watch the video on Try/Except Clauses and Iterations on Canvas\n",
    "- Hint: You do NOT need a function."
   ]
  },
  {
   "cell_type": "code",
   "execution_count": 12,
   "id": "194f78b3",
   "metadata": {},
   "outputs": [
    {
     "name": "stdout",
     "output_type": "stream",
     "text": [
      "Your total regular pay is: \u001b[1m$800.00\u001b[0m\n",
      "Your total overtime pay is: \u001b[1m$300.00\u001b[0m\n",
      "Your gross weekly pay income: \u001b[1m$1100.00\u001b[0m\n",
      "Your taxes owed: \u001b[1m$135.30\u001b[0m\n",
      "Your weekly net income: \u001b[1m$964.70\u001b[0m\n"
     ]
    }
   ],
   "source": [
    "# Formatting shortcuts\n",
    "bold1 = \"\\033[1m\"\n",
    "bold2 = \"\\033[0m\"\n",
    "\n",
    "# Constants\n",
    "TAX_RATE = .123\n",
    "OVERTIME_RATE = 1.5\n",
    "REGULAR_HOURS = 40\n",
    "\n",
    "# Variables\n",
    "while True:\n",
    "    try:\n",
    "        regular_pay = float(input('What is your regular hourly pay? '))\n",
    "        break\n",
    "    except ValueError:\n",
    "        print('Please type in a number')\n",
    "\n",
    "while True:\n",
    "    try:\n",
    "        hours_worked = float(input('How many hours have you worked this week? '))\n",
    "        break\n",
    "    except ValueError:\n",
    "        print('Please type in a number')\n",
    "\n",
    "regular_weekly_pay = regular_pay * REGULAR_HOURS\n",
    "overtime_hours = hours_worked - REGULAR_HOURS\n",
    "overtime_pay = regular_pay * OVERTIME_RATE\n",
    "overtime_weekly_pay = overtime_pay * overtime_hours\n",
    "\n",
    "\n",
    "gross_weekly_pay = regular_weekly_pay\n",
    "if hours_worked > REGULAR_HOURS:\n",
    "    gross_weekly_pay = regular_weekly_pay + overtime_weekly_pay\n",
    "\n",
    "taxes_paid = gross_weekly_pay * TAX_RATE\n",
    "net_weekly_pay = gross_weekly_pay - taxes_paid\n",
    "    \n",
    "# reg hour pay\n",
    "print(f\"Your total regular pay is: {bold1}${regular_weekly_pay:.2f}{bold2}\")\n",
    "# ot pay\n",
    "print(f\"Your total overtime pay is: {bold1}${overtime_weekly_pay:.2f}{bold2}\" if overtime_weekly_pay >= 0 else f\"Your total overtime pay is: {bold1}$0.00{bold2}\")\n",
    "# gross pay\n",
    "print(f\"Your gross weekly pay: {bold1}${gross_weekly_pay:.2f}{bold2}\")\n",
    "# taxes owed\n",
    "print(f\"Your state taxes owed: {bold1}${taxes_paid:.2f}{bold2}\")\n",
    "# net pay\n",
    "print(f\"Your weekly net income: {bold1}${net_weekly_pay:.2f}{bold2}\")"
   ]
  }
 ],
 "metadata": {
  "kernelspec": {
   "display_name": "Python 3 (ipykernel)",
   "language": "python",
   "name": "python3"
  },
  "language_info": {
   "codemirror_mode": {
    "name": "ipython",
    "version": 3
   },
   "file_extension": ".py",
   "mimetype": "text/x-python",
   "name": "python",
   "nbconvert_exporter": "python",
   "pygments_lexer": "ipython3",
   "version": "3.10.6"
  },
  "toc": {
   "base_numbering": 1,
   "nav_menu": {},
   "number_sections": true,
   "sideBar": true,
   "skip_h1_title": false,
   "title_cell": "Table of Contents",
   "title_sidebar": "Contents",
   "toc_cell": false,
   "toc_position": {},
   "toc_section_display": true,
   "toc_window_display": false
  },
  "varInspector": {
   "cols": {
    "lenName": 16,
    "lenType": 16,
    "lenVar": 40
   },
   "kernels_config": {
    "python": {
     "delete_cmd_postfix": "",
     "delete_cmd_prefix": "del ",
     "library": "var_list.py",
     "varRefreshCmd": "print(var_dic_list())"
    },
    "r": {
     "delete_cmd_postfix": ") ",
     "delete_cmd_prefix": "rm(",
     "library": "var_list.r",
     "varRefreshCmd": "cat(var_dic_list()) "
    }
   },
   "types_to_exclude": [
    "module",
    "function",
    "builtin_function_or_method",
    "instance",
    "_Feature"
   ],
   "window_display": false
  }
 },
 "nbformat": 4,
 "nbformat_minor": 5
}
