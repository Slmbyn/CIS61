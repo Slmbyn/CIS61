{
 "cells": [
  {
   "cell_type": "markdown",
   "id": "4e530bf5",
   "metadata": {
    "deletable": false,
    "editable": false
   },
   "source": [
    "# The Oaklandside Mad Lib\n",
    "\n",
    "## **Oaklandside Articles:**\n",
    "1. [Black-owned Temple of Earth Apothecary soft-opens near Lake Merritt](https://oaklandside.org/2023/08/16/temple-of-earth-apothecary-oakland-black-indigenous-herbal-medicine/)\n",
    "2. [Legal sideshows? These young East Bay developers made a video game that reimagines Oakland car culture](https://oaklandside.org/2023/09/01/oakland-video-gameheads-highsidin-sideshows/)\n",
    "3. [Swimming in Lake Merritt: is it safe or even legal?](https://oaklandside.org/2023/08/30/swimming-in-lake-merritt-is-it-safe-or-even-legal/)\n",
    "4. [Oakland is seeking volunteers for Creek to Bay Day](https://oaklandside.org/2023/08/25/oakland-creek-to-bay-2023-volunteer/)\n",
    "5. [Oakland artist Fred Alvarado has inspired local seniors to be creative for over 15 years](https://oaklandside.org/2023/08/24/oakland-fred-alvarado-fruitvale-san-antonio-senior-center/)\n",
    "6. [Tiny Garage Concert Series moves to a backyard in West Oakland](https://oaklandside.org/2023/08/22/oakland-tiny-garage-concert-series/) \n",
    "\n",
    "\n",
    "## **Background Information**\n",
    "\n",
    "\n",
    "**Question 1: What is a Mad Lib?**\n",
    "\n",
    "**Answer 1:** A Mad Lib is a word game that involves filling in the blanks of a pre-written story or paragraph with different types of words (such as nouns, verbs, adjectives, etc.) without knowing the context of the story. The person providing the words inserts them in the blanks.\n",
    "\n",
    "The result is often a humorous and nonsensical story because the player's choices of words may not fit well with the original context. Mad Libs are usually played for amusement and entertainment, and they can be a fun way to explore language and creativity.\n",
    "\n",
    "\n",
    "**Question 2:** What is an example of a Mad Lib?\n",
    "\n",
    "**Answer 2:** \n",
    "\n",
    "Original Sentence: \"The Oaklandside is one of the best examples of local journalism in California, if not the country.\"\n",
    "\n",
    "Mad Lib with Blanks: \"The (Name of a Newspaper Publication) is (Number) of the best examples of local journalism in (State), if not the country.\"\n",
    "\n",
    "Player Inputs:\n",
    "\n",
    "- Name of a Newspaper Publication: East Bay Times\n",
    "- Number: five\n",
    "- State: Iowa \n",
    "\n",
    "Completed Mad Lib: \"The (East Bay Times) is (five) of the best examples of local journalism in (Iowa), if not the country.\"\n",
    "\n",
    "\n",
    "## **Instructions:**\n",
    "\n",
    "Create a Mad Lib from ONE of the Oaklandside articles listed above. The Mad Lib should control for user inappropriate user input. For example, if the prompt asks to provide the name of a state and the player types \"apple\", the program should inform the player that is not the name of a state and give them a chance to ask again.\n",
    "\n",
    "Use an excerpt from the one the articles. The excerpt should be one or two paragraphs. You need to have at least 5 player inputs and at least five iterations. The player inputs should be bolded in the final print statement. \n",
    "\n",
    "**Hint 1: Adding conditionals could make your life much easier.**\n",
    "\n",
    "**Hint 2: String methods could be extraordinarily useful: https://www.w3schools.com/python/python_ref_string.asp.**\n",
    "\n",
    "**Hint 3: Reference the slides on Operators.**\n",
    "\n",
    "**Hint 4: Use lists when appropriate.**"
   ]
  },
  {
   "cell_type": "code",
   "execution_count": 8,
   "id": "3dc06fb8",
   "metadata": {},
   "outputs": [
    {
     "name": "stdout",
     "output_type": "stream",
     "text": [
      "\n",
      "Its a hot Wednesday afternoon in East Oakland. At the Fruitvale Village courtyard,\n",
      "elders of different nationalities patiently wait in line at an \u001b[1mbar\u001b[0m.\n",
      "Above the courtyard, on the second floor of one of the buildings at the Fruitvale-San Antonio Senior Center,\n",
      "another group of about half a dozen \u001b[1mbirds\u001b[0m sits around a table, carefully \u001b[1mgambling\u001b[0m.\n",
      "Oakland artist \u001b[1mCher\u001b[0m is at \u001b[1mcafe\u001b[0m, \u001b[1mreading\u001b[0m on a blank canvas for cards to be used in\n",
      "lotería—the Mexican game similar to bingo played with cards adorned with specific images like a \u001b[1mchair\u001b[0m or a bird—for\n",
      "the elderly women to paint.\n",
      "\n"
     ]
    }
   ],
   "source": [
    "bold_open = \"\\033[1m\"\n",
    "bold_close = \"\\033[0m\"\n",
    "\n",
    "# player inputs\n",
    "while True:\n",
    "    place_to_wait = input('A place (e.g: Festival, Cafe, Bowling Alley): ').strip().lower()\n",
    "    if place_to_wait.replace(' ', '').isalpha():\n",
    "        break\n",
    "    else:\n",
    "        print(\"Invalid input. Please enter only letters.\")\n",
    "        \n",
    "while True:\n",
    "    group = input('A group of something (e.g: People, Birds, Ants): ').strip().lower()\n",
    "    if group.replace(' ', '').isalpha():\n",
    "        break\n",
    "    else:\n",
    "        print(\"Invalid input. Please enter only letters.\")\n",
    "\n",
    "while True:\n",
    "    activity_to_do = input('An activity (e.g: Painting, Boxing, making paper airplanes): ').strip().lower()\n",
    "    if activity_to_do.replace(' ', '').isalpha():\n",
    "        break\n",
    "    else:\n",
    "        print(\"Invalid input. Please enter only letters.\")\n",
    "\n",
    "while True:\n",
    "    oakland_artist = input('Name of a person: ').strip()\n",
    "    if oakland_artist.replace(' ', '').isalpha():\n",
    "        break\n",
    "    else:\n",
    "        print(\"Invalid input. Please enter only letters.\")\n",
    "\n",
    "while True:\n",
    "    oakland_artist_location = input('A location (e.g: the table, room, park): ').strip().lower()\n",
    "    if oakland_artist_location.replace(' ', '').isalpha():\n",
    "        break\n",
    "    else:\n",
    "        print(\"Invalid input. Please enter only letters.\")\n",
    "\n",
    "while True:\n",
    "    oakland_artist_activity = input('An activity (e.g: sketching, singing, dancing): ').strip().lower()\n",
    "    if oakland_artist_activity.replace(' ', '').isalpha():\n",
    "        break\n",
    "    else:\n",
    "        print(\"Invalid input. Please enter only letters.\")\n",
    "        \n",
    "while True:\n",
    "    noun = input('A noun (e.g: flower, car, cloud): ').strip().lower()\n",
    "    if noun.replace(' ', '').isalpha():\n",
    "        break\n",
    "    else:\n",
    "        print(\"Invalid input. Please enter only letters.\")\n",
    "\n",
    "\n",
    "print(f\"\"\"\n",
    "Its a hot Wednesday afternoon in East Oakland. At the Fruitvale Village courtyard,\n",
    "elders of different nationalities patiently wait in line at an {bold_open}{place_to_wait}{bold_close}.\n",
    "Above the courtyard, on the second floor of one of the buildings at the Fruitvale-San Antonio Senior Center,\n",
    "another group of about half a dozen {bold_open}{group}{bold_close} sits around a table, carefully {bold_open}{activity_to_do}{bold_close}.\n",
    "Oakland artist {bold_open}{oakland_artist}{bold_close} is at {bold_open}{oakland_artist_location}{bold_close}, {bold_open}{oakland_artist_activity}{bold_close} on a blank canvas for cards to be used in\n",
    "lotería—the Mexican game similar to bingo played with cards adorned with specific images like a {bold_open}{noun}{bold_close} or a bird—for\n",
    "the elderly women to paint.\n",
    "\"\"\")\n",
    "\n"
   ]
  }
 ],
 "metadata": {
  "kernelspec": {
   "display_name": "Python 3 (ipykernel)",
   "language": "python",
   "name": "python3"
  },
  "language_info": {
   "codemirror_mode": {
    "name": "ipython",
    "version": 3
   },
   "file_extension": ".py",
   "mimetype": "text/x-python",
   "name": "python",
   "nbconvert_exporter": "python",
   "pygments_lexer": "ipython3",
   "version": "3.10.6"
  },
  "toc": {
   "base_numbering": 1,
   "nav_menu": {},
   "number_sections": true,
   "sideBar": true,
   "skip_h1_title": false,
   "title_cell": "Table of Contents",
   "title_sidebar": "Contents",
   "toc_cell": false,
   "toc_position": {},
   "toc_section_display": true,
   "toc_window_display": false
  },
  "varInspector": {
   "cols": {
    "lenName": 16,
    "lenType": 16,
    "lenVar": 40
   },
   "kernels_config": {
    "python": {
     "delete_cmd_postfix": "",
     "delete_cmd_prefix": "del ",
     "library": "var_list.py",
     "varRefreshCmd": "print(var_dic_list())"
    },
    "r": {
     "delete_cmd_postfix": ") ",
     "delete_cmd_prefix": "rm(",
     "library": "var_list.r",
     "varRefreshCmd": "cat(var_dic_list()) "
    }
   },
   "types_to_exclude": [
    "module",
    "function",
    "builtin_function_or_method",
    "instance",
    "_Feature"
   ],
   "window_display": false
  }
 },
 "nbformat": 4,
 "nbformat_minor": 5
}
